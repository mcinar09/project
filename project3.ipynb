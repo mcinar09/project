{
 "cells": [
  {
   "cell_type": "code",
   "execution_count": 1,
   "metadata": {},
   "outputs": [],
   "source": [
    "import numpy as np\n",
    "import pandas as pd\n",
    "import matplotlib.pyplot as plt\n",
    "%matplotlib inline\n",
    "\n",
    "import warnings\n",
    "warnings.filterwarnings('ignore')"
   ]
  },
  {
   "cell_type": "code",
   "execution_count": 2,
   "metadata": {},
   "outputs": [],
   "source": [
    "DF = pd.read_csv(\"NYC_Citywide_Annualized_Calendar_Sales_Update-3.csv\")"
   ]
  },
  {
   "cell_type": "code",
   "execution_count": 3,
   "metadata": {},
   "outputs": [
    {
     "data": {
      "text/html": [
       "<div>\n",
       "<style scoped>\n",
       "    .dataframe tbody tr th:only-of-type {\n",
       "        vertical-align: middle;\n",
       "    }\n",
       "\n",
       "    .dataframe tbody tr th {\n",
       "        vertical-align: top;\n",
       "    }\n",
       "\n",
       "    .dataframe thead th {\n",
       "        text-align: right;\n",
       "    }\n",
       "</style>\n",
       "<table border=\"1\" class=\"dataframe\">\n",
       "  <thead>\n",
       "    <tr style=\"text-align: right;\">\n",
       "      <th></th>\n",
       "      <th>BOROUGH</th>\n",
       "      <th>NEIGHBORHOOD</th>\n",
       "      <th>BUILDING CLASS CATEGORY</th>\n",
       "      <th>TAX CLASS AS OF FINAL ROLL</th>\n",
       "      <th>BLOCK</th>\n",
       "      <th>LOT</th>\n",
       "      <th>EASE-MENT</th>\n",
       "      <th>BUILDING CLASS AS OF FINAL ROLL</th>\n",
       "      <th>ADDRESS</th>\n",
       "      <th>APARTMENT NUMBER</th>\n",
       "      <th>...</th>\n",
       "      <th>SALE PRICE</th>\n",
       "      <th>SALE DATE</th>\n",
       "      <th>Latitude</th>\n",
       "      <th>Longitude</th>\n",
       "      <th>Community Board</th>\n",
       "      <th>Council District</th>\n",
       "      <th>Census Tract</th>\n",
       "      <th>BIN</th>\n",
       "      <th>BBL</th>\n",
       "      <th>NTA</th>\n",
       "    </tr>\n",
       "  </thead>\n",
       "  <tbody>\n",
       "    <tr>\n",
       "      <th>0</th>\n",
       "      <td>1</td>\n",
       "      <td>FINANCIAL</td>\n",
       "      <td>14  RENTALS - 4-10 UNIT</td>\n",
       "      <td>2A</td>\n",
       "      <td>7</td>\n",
       "      <td>38</td>\n",
       "      <td>NaN</td>\n",
       "      <td>S9</td>\n",
       "      <td>60 PEARL STREET</td>\n",
       "      <td>NaN</td>\n",
       "      <td>...</td>\n",
       "      <td>4027000</td>\n",
       "      <td>01/01/2016</td>\n",
       "      <td>40.703553</td>\n",
       "      <td>-74.011152</td>\n",
       "      <td>101.0</td>\n",
       "      <td>1.0</td>\n",
       "      <td>9.0</td>\n",
       "      <td>1000014.0</td>\n",
       "      <td>1.000070e+09</td>\n",
       "      <td>Battery Park City-Lower Manhattan</td>\n",
       "    </tr>\n",
       "    <tr>\n",
       "      <th>1</th>\n",
       "      <td>1</td>\n",
       "      <td>HARLEM-EAST</td>\n",
       "      <td>01  ONE FAMILY DWELLINGS</td>\n",
       "      <td>1</td>\n",
       "      <td>1643</td>\n",
       "      <td>122</td>\n",
       "      <td>NaN</td>\n",
       "      <td>A4</td>\n",
       "      <td>155 EAST 115 STREET</td>\n",
       "      <td>NaN</td>\n",
       "      <td>...</td>\n",
       "      <td>0</td>\n",
       "      <td>01/01/2016</td>\n",
       "      <td>40.797761</td>\n",
       "      <td>-73.941667</td>\n",
       "      <td>111.0</td>\n",
       "      <td>8.0</td>\n",
       "      <td>182.0</td>\n",
       "      <td>1052276.0</td>\n",
       "      <td>1.016430e+09</td>\n",
       "      <td>East Harlem North</td>\n",
       "    </tr>\n",
       "    <tr>\n",
       "      <th>2</th>\n",
       "      <td>1</td>\n",
       "      <td>HARLEM-EAST</td>\n",
       "      <td>07  RENTALS - WALKUP APARTMENTS</td>\n",
       "      <td>2</td>\n",
       "      <td>1643</td>\n",
       "      <td>123</td>\n",
       "      <td>NaN</td>\n",
       "      <td>C5</td>\n",
       "      <td>157 EAST 115 STREET</td>\n",
       "      <td>NaN</td>\n",
       "      <td>...</td>\n",
       "      <td>0</td>\n",
       "      <td>01/01/2016</td>\n",
       "      <td>40.797744</td>\n",
       "      <td>-73.941627</td>\n",
       "      <td>111.0</td>\n",
       "      <td>8.0</td>\n",
       "      <td>182.0</td>\n",
       "      <td>1052277.0</td>\n",
       "      <td>1.016430e+09</td>\n",
       "      <td>East Harlem North</td>\n",
       "    </tr>\n",
       "    <tr>\n",
       "      <th>3</th>\n",
       "      <td>1</td>\n",
       "      <td>MIDTOWN EAST</td>\n",
       "      <td>13  CONDOS - ELEVATOR APARTMENTS</td>\n",
       "      <td>2</td>\n",
       "      <td>1320</td>\n",
       "      <td>4247</td>\n",
       "      <td>NaN</td>\n",
       "      <td>R4</td>\n",
       "      <td>211 EAST 46TH   STREET</td>\n",
       "      <td>33J</td>\n",
       "      <td>...</td>\n",
       "      <td>0</td>\n",
       "      <td>01/01/2016</td>\n",
       "      <td>40.753118</td>\n",
       "      <td>-73.972085</td>\n",
       "      <td>106.0</td>\n",
       "      <td>4.0</td>\n",
       "      <td>90.0</td>\n",
       "      <td>1037599.0</td>\n",
       "      <td>1.013208e+09</td>\n",
       "      <td>Turtle Bay-East Midtown</td>\n",
       "    </tr>\n",
       "    <tr>\n",
       "      <th>4</th>\n",
       "      <td>1</td>\n",
       "      <td>MIDTOWN EAST</td>\n",
       "      <td>13  CONDOS - ELEVATOR APARTMENTS</td>\n",
       "      <td>2</td>\n",
       "      <td>1365</td>\n",
       "      <td>1526</td>\n",
       "      <td>NaN</td>\n",
       "      <td>R4</td>\n",
       "      <td>400 EAST 54TH   STREET</td>\n",
       "      <td>30H</td>\n",
       "      <td>...</td>\n",
       "      <td>0</td>\n",
       "      <td>01/01/2016</td>\n",
       "      <td>40.756237</td>\n",
       "      <td>-73.963995</td>\n",
       "      <td>106.0</td>\n",
       "      <td>4.0</td>\n",
       "      <td>8603.0</td>\n",
       "      <td>1076281.0</td>\n",
       "      <td>1.013658e+09</td>\n",
       "      <td>Turtle Bay-East Midtown</td>\n",
       "    </tr>\n",
       "  </tbody>\n",
       "</table>\n",
       "<p>5 rows × 29 columns</p>\n",
       "</div>"
      ],
      "text/plain": [
       "   BOROUGH  NEIGHBORHOOD           BUILDING CLASS CATEGORY  \\\n",
       "0        1     FINANCIAL           14  RENTALS - 4-10 UNIT   \n",
       "1        1   HARLEM-EAST          01  ONE FAMILY DWELLINGS   \n",
       "2        1   HARLEM-EAST   07  RENTALS - WALKUP APARTMENTS   \n",
       "3        1  MIDTOWN EAST  13  CONDOS - ELEVATOR APARTMENTS   \n",
       "4        1  MIDTOWN EAST  13  CONDOS - ELEVATOR APARTMENTS   \n",
       "\n",
       "  TAX CLASS AS OF FINAL ROLL  BLOCK   LOT  EASE-MENT  \\\n",
       "0                         2A      7    38        NaN   \n",
       "1                          1   1643   122        NaN   \n",
       "2                          2   1643   123        NaN   \n",
       "3                          2   1320  4247        NaN   \n",
       "4                          2   1365  1526        NaN   \n",
       "\n",
       "  BUILDING CLASS AS OF FINAL ROLL                 ADDRESS APARTMENT NUMBER  \\\n",
       "0                              S9         60 PEARL STREET              NaN   \n",
       "1                              A4     155 EAST 115 STREET              NaN   \n",
       "2                              C5     157 EAST 115 STREET              NaN   \n",
       "3                              R4  211 EAST 46TH   STREET              33J   \n",
       "4                              R4  400 EAST 54TH   STREET              30H   \n",
       "\n",
       "   ...  SALE PRICE   SALE DATE   Latitude  Longitude Community Board  \\\n",
       "0  ...     4027000  01/01/2016  40.703553 -74.011152           101.0   \n",
       "1  ...           0  01/01/2016  40.797761 -73.941667           111.0   \n",
       "2  ...           0  01/01/2016  40.797744 -73.941627           111.0   \n",
       "3  ...           0  01/01/2016  40.753118 -73.972085           106.0   \n",
       "4  ...           0  01/01/2016  40.756237 -73.963995           106.0   \n",
       "\n",
       "  Council District  Census Tract        BIN           BBL  \\\n",
       "0              1.0           9.0  1000014.0  1.000070e+09   \n",
       "1              8.0         182.0  1052276.0  1.016430e+09   \n",
       "2              8.0         182.0  1052277.0  1.016430e+09   \n",
       "3              4.0          90.0  1037599.0  1.013208e+09   \n",
       "4              4.0        8603.0  1076281.0  1.013658e+09   \n",
       "\n",
       "                                 NTA  \n",
       "0  Battery Park City-Lower Manhattan  \n",
       "1                  East Harlem North  \n",
       "2                  East Harlem North  \n",
       "3            Turtle Bay-East Midtown  \n",
       "4            Turtle Bay-East Midtown  \n",
       "\n",
       "[5 rows x 29 columns]"
      ]
     },
     "execution_count": 3,
     "metadata": {},
     "output_type": "execute_result"
    }
   ],
   "source": [
    "DF.head()"
   ]
  },
  {
   "cell_type": "code",
   "execution_count": 4,
   "metadata": {},
   "outputs": [
    {
     "data": {
      "text/plain": [
       "(345059, 29)"
      ]
     },
     "execution_count": 4,
     "metadata": {},
     "output_type": "execute_result"
    }
   ],
   "source": [
    "DF.shape"
   ]
  },
  {
   "cell_type": "code",
   "execution_count": 5,
   "metadata": {},
   "outputs": [],
   "source": [
    "#replace the white space in columns by an underscore\n",
    "DF.columns =DF.columns.str.replace(' ', '_')"
   ]
  },
  {
   "cell_type": "code",
   "execution_count": 6,
   "metadata": {},
   "outputs": [],
   "source": [
    "# switching the column names to lowercase\n",
    "DF.columns = map(str.lower, DF.columns)"
   ]
  },
  {
   "cell_type": "code",
   "execution_count": 7,
   "metadata": {},
   "outputs": [
    {
     "data": {
      "text/plain": [
       "Index(['borough', 'neighborhood', 'building_class_category',\n",
       "       'tax_class_as_of_final_roll', 'block', 'lot', 'ease-ment',\n",
       "       'building_class_as_of_final_roll', 'address', 'apartment_number',\n",
       "       'zip_code', 'residential_units', 'commercial_units', 'total_units',\n",
       "       'land_square_feet', 'gross_square_feet', 'year_built',\n",
       "       'tax_class_at_time_of_sale', 'building_class_at_time_of_sale',\n",
       "       'sale_price', 'sale_date', 'latitude', 'longitude', 'community_board',\n",
       "       'council_district', 'census_tract', 'bin', 'bbl', 'nta'],\n",
       "      dtype='object')"
      ]
     },
     "execution_count": 7,
     "metadata": {},
     "output_type": "execute_result"
    }
   ],
   "source": [
    "DF.columns"
   ]
  },
  {
   "cell_type": "code",
   "execution_count": 8,
   "metadata": {},
   "outputs": [
    {
     "name": "stdout",
     "output_type": "stream",
     "text": [
      "<class 'pandas.core.frame.DataFrame'>\n",
      "RangeIndex: 345059 entries, 0 to 345058\n",
      "Data columns (total 29 columns):\n",
      " #   Column                           Non-Null Count   Dtype  \n",
      "---  ------                           --------------   -----  \n",
      " 0   borough                          345059 non-null  int64  \n",
      " 1   neighborhood                     345059 non-null  object \n",
      " 2   building_class_category          345059 non-null  object \n",
      " 3   tax_class_as_of_final_roll       341199 non-null  object \n",
      " 4   block                            345059 non-null  int64  \n",
      " 5   lot                              345059 non-null  int64  \n",
      " 6   ease-ment                        0 non-null       float64\n",
      " 7   building_class_as_of_final_roll  341199 non-null  object \n",
      " 8   address                          345059 non-null  object \n",
      " 9   apartment_number                 74790 non-null   object \n",
      " 10  zip_code                         345044 non-null  float64\n",
      " 11  residential_units                329081 non-null  float64\n",
      " 12  commercial_units                 329081 non-null  float64\n",
      " 13  total_units                      329081 non-null  float64\n",
      " 14  land_square_feet                 329079 non-null  object \n",
      " 15  gross_square_feet                329082 non-null  object \n",
      " 16  year_built                       339532 non-null  float64\n",
      " 17  tax_class_at_time_of_sale        345059 non-null  int64  \n",
      " 18  building_class_at_time_of_sale   345059 non-null  object \n",
      " 19  sale_price                       345059 non-null  int64  \n",
      " 20  sale_date                        345059 non-null  object \n",
      " 21  latitude                         334109 non-null  float64\n",
      " 22  longitude                        334109 non-null  float64\n",
      " 23  community_board                  334109 non-null  float64\n",
      " 24  council_district                 334109 non-null  float64\n",
      " 25  census_tract                     334109 non-null  float64\n",
      " 26  bin                              332909 non-null  float64\n",
      " 27  bbl                              332909 non-null  float64\n",
      " 28  nta                              334109 non-null  object \n",
      "dtypes: float64(13), int64(5), object(11)\n",
      "memory usage: 76.3+ MB\n"
     ]
    }
   ],
   "source": [
    "DF.info()"
   ]
  },
  {
   "cell_type": "code",
   "execution_count": 9,
   "metadata": {},
   "outputs": [],
   "source": [
    "# drop the columns that have a lot of missing values\n",
    "DF = DF.drop(columns = [\"ease-ment\",\"apartment_number\"])"
   ]
  },
  {
   "cell_type": "code",
   "execution_count": 10,
   "metadata": {},
   "outputs": [],
   "source": [
    "DF = DF.dropna() #drop the rows that have missing values"
   ]
  },
  {
   "cell_type": "code",
   "execution_count": 11,
   "metadata": {},
   "outputs": [
    {
     "name": "stdout",
     "output_type": "stream",
     "text": [
      "<class 'pandas.core.frame.DataFrame'>\n",
      "Int64Index: 309443 entries, 0 to 345058\n",
      "Data columns (total 27 columns):\n",
      " #   Column                           Non-Null Count   Dtype  \n",
      "---  ------                           --------------   -----  \n",
      " 0   borough                          309443 non-null  int64  \n",
      " 1   neighborhood                     309443 non-null  object \n",
      " 2   building_class_category          309443 non-null  object \n",
      " 3   tax_class_as_of_final_roll       309443 non-null  object \n",
      " 4   block                            309443 non-null  int64  \n",
      " 5   lot                              309443 non-null  int64  \n",
      " 6   building_class_as_of_final_roll  309443 non-null  object \n",
      " 7   address                          309443 non-null  object \n",
      " 8   zip_code                         309443 non-null  float64\n",
      " 9   residential_units                309443 non-null  float64\n",
      " 10  commercial_units                 309443 non-null  float64\n",
      " 11  total_units                      309443 non-null  float64\n",
      " 12  land_square_feet                 309443 non-null  object \n",
      " 13  gross_square_feet                309443 non-null  object \n",
      " 14  year_built                       309443 non-null  float64\n",
      " 15  tax_class_at_time_of_sale        309443 non-null  int64  \n",
      " 16  building_class_at_time_of_sale   309443 non-null  object \n",
      " 17  sale_price                       309443 non-null  int64  \n",
      " 18  sale_date                        309443 non-null  object \n",
      " 19  latitude                         309443 non-null  float64\n",
      " 20  longitude                        309443 non-null  float64\n",
      " 21  community_board                  309443 non-null  float64\n",
      " 22  council_district                 309443 non-null  float64\n",
      " 23  census_tract                     309443 non-null  float64\n",
      " 24  bin                              309443 non-null  float64\n",
      " 25  bbl                              309443 non-null  float64\n",
      " 26  nta                              309443 non-null  object \n",
      "dtypes: float64(12), int64(5), object(10)\n",
      "memory usage: 66.1+ MB\n"
     ]
    },
    {
     "data": {
      "text/plain": [
       "(309443, 27)"
      ]
     },
     "execution_count": 11,
     "metadata": {},
     "output_type": "execute_result"
    }
   ],
   "source": [
    "DF.info()\n",
    "DF.shape"
   ]
  },
  {
   "cell_type": "code",
   "execution_count": 12,
   "metadata": {},
   "outputs": [],
   "source": [
    "#Data in certain range.\n",
    "df = DF[(DF.sale_price >= 500000) & (DF.sale_price < 900000)]"
   ]
  },
  {
   "cell_type": "code",
   "execution_count": 13,
   "metadata": {},
   "outputs": [
    {
     "data": {
      "text/plain": [
       "(68265, 18)"
      ]
     },
     "execution_count": 13,
     "metadata": {},
     "output_type": "execute_result"
    }
   ],
   "source": [
    "# dropping some text variables that are considered redundant and they seem like have no correlation with the \"sale price\" \n",
    "df = df.drop(columns = ['address', \"land_square_feet\", \"building_class_at_time_of_sale\", \"sale_date\", \"nta\", \"gross_square_feet\", \"neighborhood\", \"building_class_as_of_final_roll\", \"building_class_category\" ])\n",
    "df.shape"
   ]
  },
  {
   "cell_type": "code",
   "execution_count": 14,
   "metadata": {},
   "outputs": [
    {
     "data": {
      "text/plain": [
       "(68265, 18)"
      ]
     },
     "execution_count": 14,
     "metadata": {},
     "output_type": "execute_result"
    }
   ],
   "source": [
    "df.shape"
   ]
  },
  {
   "cell_type": "code",
   "execution_count": 15,
   "metadata": {},
   "outputs": [
    {
     "data": {
      "text/html": [
       "<div>\n",
       "<style scoped>\n",
       "    .dataframe tbody tr th:only-of-type {\n",
       "        vertical-align: middle;\n",
       "    }\n",
       "\n",
       "    .dataframe tbody tr th {\n",
       "        vertical-align: top;\n",
       "    }\n",
       "\n",
       "    .dataframe thead th {\n",
       "        text-align: right;\n",
       "    }\n",
       "</style>\n",
       "<table border=\"1\" class=\"dataframe\">\n",
       "  <thead>\n",
       "    <tr style=\"text-align: right;\">\n",
       "      <th></th>\n",
       "      <th>borough</th>\n",
       "      <th>block</th>\n",
       "      <th>lot</th>\n",
       "      <th>zip_code</th>\n",
       "      <th>residential_units</th>\n",
       "      <th>commercial_units</th>\n",
       "      <th>total_units</th>\n",
       "      <th>year_built</th>\n",
       "      <th>tax_class_at_time_of_sale</th>\n",
       "      <th>sale_price</th>\n",
       "      <th>latitude</th>\n",
       "      <th>longitude</th>\n",
       "      <th>community_board</th>\n",
       "      <th>council_district</th>\n",
       "      <th>census_tract</th>\n",
       "      <th>bin</th>\n",
       "      <th>bbl</th>\n",
       "    </tr>\n",
       "  </thead>\n",
       "  <tbody>\n",
       "    <tr>\n",
       "      <th>count</th>\n",
       "      <td>68265.000000</td>\n",
       "      <td>68265.000000</td>\n",
       "      <td>68265.000000</td>\n",
       "      <td>68265.000000</td>\n",
       "      <td>68265.000000</td>\n",
       "      <td>68265.000000</td>\n",
       "      <td>68265.000000</td>\n",
       "      <td>68265.000000</td>\n",
       "      <td>68265.000000</td>\n",
       "      <td>68265.000000</td>\n",
       "      <td>68265.000000</td>\n",
       "      <td>68265.000000</td>\n",
       "      <td>68265.000000</td>\n",
       "      <td>68265.000000</td>\n",
       "      <td>68265.000000</td>\n",
       "      <td>6.826500e+04</td>\n",
       "      <td>6.826500e+04</td>\n",
       "    </tr>\n",
       "    <tr>\n",
       "      <th>mean</th>\n",
       "      <td>3.190244</td>\n",
       "      <td>4848.854830</td>\n",
       "      <td>309.586904</td>\n",
       "      <td>10866.520384</td>\n",
       "      <td>1.298982</td>\n",
       "      <td>0.057907</td>\n",
       "      <td>1.403340</td>\n",
       "      <td>1882.092038</td>\n",
       "      <td>1.387431</td>\n",
       "      <td>676264.018370</td>\n",
       "      <td>40.700562</td>\n",
       "      <td>-73.927972</td>\n",
       "      <td>326.836109</td>\n",
       "      <td>28.472321</td>\n",
       "      <td>10288.754325</td>\n",
       "      <td>3.343994e+06</td>\n",
       "      <td>3.228412e+09</td>\n",
       "    </tr>\n",
       "    <tr>\n",
       "      <th>std</th>\n",
       "      <td>1.281982</td>\n",
       "      <td>3694.284084</td>\n",
       "      <td>570.900308</td>\n",
       "      <td>641.838910</td>\n",
       "      <td>2.899564</td>\n",
       "      <td>1.455380</td>\n",
       "      <td>3.672728</td>\n",
       "      <td>364.043448</td>\n",
       "      <td>0.588042</td>\n",
       "      <td>112241.168943</td>\n",
       "      <td>0.084357</td>\n",
       "      <td>0.115303</td>\n",
       "      <td>127.575357</td>\n",
       "      <td>15.601989</td>\n",
       "      <td>27539.257963</td>\n",
       "      <td>1.325254e+06</td>\n",
       "      <td>1.308975e+09</td>\n",
       "    </tr>\n",
       "    <tr>\n",
       "      <th>min</th>\n",
       "      <td>1.000000</td>\n",
       "      <td>1.000000</td>\n",
       "      <td>1.000000</td>\n",
       "      <td>0.000000</td>\n",
       "      <td>0.000000</td>\n",
       "      <td>0.000000</td>\n",
       "      <td>0.000000</td>\n",
       "      <td>0.000000</td>\n",
       "      <td>1.000000</td>\n",
       "      <td>500000.000000</td>\n",
       "      <td>40.499050</td>\n",
       "      <td>-74.254032</td>\n",
       "      <td>101.000000</td>\n",
       "      <td>1.000000</td>\n",
       "      <td>1.000000</td>\n",
       "      <td>1.000000e+06</td>\n",
       "      <td>0.000000e+00</td>\n",
       "    </tr>\n",
       "    <tr>\n",
       "      <th>25%</th>\n",
       "      <td>2.000000</td>\n",
       "      <td>1555.000000</td>\n",
       "      <td>22.000000</td>\n",
       "      <td>10309.000000</td>\n",
       "      <td>1.000000</td>\n",
       "      <td>0.000000</td>\n",
       "      <td>1.000000</td>\n",
       "      <td>1925.000000</td>\n",
       "      <td>1.000000</td>\n",
       "      <td>580000.000000</td>\n",
       "      <td>40.636294</td>\n",
       "      <td>-73.981745</td>\n",
       "      <td>212.000000</td>\n",
       "      <td>18.000000</td>\n",
       "      <td>167.000000</td>\n",
       "      <td>2.101698e+06</td>\n",
       "      <td>2.054290e+09</td>\n",
       "    </tr>\n",
       "    <tr>\n",
       "      <th>50%</th>\n",
       "      <td>3.000000</td>\n",
       "      <td>4228.000000</td>\n",
       "      <td>48.000000</td>\n",
       "      <td>11210.000000</td>\n",
       "      <td>1.000000</td>\n",
       "      <td>0.000000</td>\n",
       "      <td>1.000000</td>\n",
       "      <td>1945.000000</td>\n",
       "      <td>1.000000</td>\n",
       "      <td>665000.000000</td>\n",
       "      <td>40.700756</td>\n",
       "      <td>-73.928289</td>\n",
       "      <td>318.000000</td>\n",
       "      <td>29.000000</td>\n",
       "      <td>479.000000</td>\n",
       "      <td>3.421399e+06</td>\n",
       "      <td>3.084130e+09</td>\n",
       "    </tr>\n",
       "    <tr>\n",
       "      <th>75%</th>\n",
       "      <td>4.000000</td>\n",
       "      <td>7216.000000</td>\n",
       "      <td>165.000000</td>\n",
       "      <td>11365.000000</td>\n",
       "      <td>2.000000</td>\n",
       "      <td>0.000000</td>\n",
       "      <td>2.000000</td>\n",
       "      <td>1970.000000</td>\n",
       "      <td>2.000000</td>\n",
       "      <td>768000.000000</td>\n",
       "      <td>40.757896</td>\n",
       "      <td>-73.845359</td>\n",
       "      <td>411.000000</td>\n",
       "      <td>43.000000</td>\n",
       "      <td>1201.000000</td>\n",
       "      <td>4.253391e+06</td>\n",
       "      <td>4.097368e+09</td>\n",
       "    </tr>\n",
       "    <tr>\n",
       "      <th>max</th>\n",
       "      <td>5.000000</td>\n",
       "      <td>16350.000000</td>\n",
       "      <td>9002.000000</td>\n",
       "      <td>11697.000000</td>\n",
       "      <td>376.000000</td>\n",
       "      <td>259.000000</td>\n",
       "      <td>376.000000</td>\n",
       "      <td>2019.000000</td>\n",
       "      <td>4.000000</td>\n",
       "      <td>899999.000000</td>\n",
       "      <td>40.912572</td>\n",
       "      <td>-73.701405</td>\n",
       "      <td>503.000000</td>\n",
       "      <td>51.000000</td>\n",
       "      <td>157903.000000</td>\n",
       "      <td>5.516445e+06</td>\n",
       "      <td>5.080500e+09</td>\n",
       "    </tr>\n",
       "  </tbody>\n",
       "</table>\n",
       "</div>"
      ],
      "text/plain": [
       "            borough         block           lot      zip_code  \\\n",
       "count  68265.000000  68265.000000  68265.000000  68265.000000   \n",
       "mean       3.190244   4848.854830    309.586904  10866.520384   \n",
       "std        1.281982   3694.284084    570.900308    641.838910   \n",
       "min        1.000000      1.000000      1.000000      0.000000   \n",
       "25%        2.000000   1555.000000     22.000000  10309.000000   \n",
       "50%        3.000000   4228.000000     48.000000  11210.000000   \n",
       "75%        4.000000   7216.000000    165.000000  11365.000000   \n",
       "max        5.000000  16350.000000   9002.000000  11697.000000   \n",
       "\n",
       "       residential_units  commercial_units   total_units    year_built  \\\n",
       "count       68265.000000      68265.000000  68265.000000  68265.000000   \n",
       "mean            1.298982          0.057907      1.403340   1882.092038   \n",
       "std             2.899564          1.455380      3.672728    364.043448   \n",
       "min             0.000000          0.000000      0.000000      0.000000   \n",
       "25%             1.000000          0.000000      1.000000   1925.000000   \n",
       "50%             1.000000          0.000000      1.000000   1945.000000   \n",
       "75%             2.000000          0.000000      2.000000   1970.000000   \n",
       "max           376.000000        259.000000    376.000000   2019.000000   \n",
       "\n",
       "       tax_class_at_time_of_sale     sale_price      latitude     longitude  \\\n",
       "count               68265.000000   68265.000000  68265.000000  68265.000000   \n",
       "mean                    1.387431  676264.018370     40.700562    -73.927972   \n",
       "std                     0.588042  112241.168943      0.084357      0.115303   \n",
       "min                     1.000000  500000.000000     40.499050    -74.254032   \n",
       "25%                     1.000000  580000.000000     40.636294    -73.981745   \n",
       "50%                     1.000000  665000.000000     40.700756    -73.928289   \n",
       "75%                     2.000000  768000.000000     40.757896    -73.845359   \n",
       "max                     4.000000  899999.000000     40.912572    -73.701405   \n",
       "\n",
       "       community_board  council_district   census_tract           bin  \\\n",
       "count     68265.000000      68265.000000   68265.000000  6.826500e+04   \n",
       "mean        326.836109         28.472321   10288.754325  3.343994e+06   \n",
       "std         127.575357         15.601989   27539.257963  1.325254e+06   \n",
       "min         101.000000          1.000000       1.000000  1.000000e+06   \n",
       "25%         212.000000         18.000000     167.000000  2.101698e+06   \n",
       "50%         318.000000         29.000000     479.000000  3.421399e+06   \n",
       "75%         411.000000         43.000000    1201.000000  4.253391e+06   \n",
       "max         503.000000         51.000000  157903.000000  5.516445e+06   \n",
       "\n",
       "                bbl  \n",
       "count  6.826500e+04  \n",
       "mean   3.228412e+09  \n",
       "std    1.308975e+09  \n",
       "min    0.000000e+00  \n",
       "25%    2.054290e+09  \n",
       "50%    3.084130e+09  \n",
       "75%    4.097368e+09  \n",
       "max    5.080500e+09  "
      ]
     },
     "execution_count": 15,
     "metadata": {},
     "output_type": "execute_result"
    }
   ],
   "source": [
    "df.describe()"
   ]
  },
  {
   "cell_type": "code",
   "execution_count": 16,
   "metadata": {},
   "outputs": [
    {
     "name": "stdout",
     "output_type": "stream",
     "text": [
      "<class 'pandas.core.frame.DataFrame'>\n",
      "Int64Index: 68265 entries, 76 to 345058\n",
      "Data columns (total 18 columns):\n",
      " #   Column                      Non-Null Count  Dtype  \n",
      "---  ------                      --------------  -----  \n",
      " 0   borough                     68265 non-null  int64  \n",
      " 1   tax_class_as_of_final_roll  68265 non-null  object \n",
      " 2   block                       68265 non-null  int64  \n",
      " 3   lot                         68265 non-null  int64  \n",
      " 4   zip_code                    68265 non-null  float64\n",
      " 5   residential_units           68265 non-null  float64\n",
      " 6   commercial_units            68265 non-null  float64\n",
      " 7   total_units                 68265 non-null  float64\n",
      " 8   year_built                  68265 non-null  float64\n",
      " 9   tax_class_at_time_of_sale   68265 non-null  int64  \n",
      " 10  sale_price                  68265 non-null  int64  \n",
      " 11  latitude                    68265 non-null  float64\n",
      " 12  longitude                   68265 non-null  float64\n",
      " 13  community_board             68265 non-null  float64\n",
      " 14  council_district            68265 non-null  float64\n",
      " 15  census_tract                68265 non-null  float64\n",
      " 16  bin                         68265 non-null  float64\n",
      " 17  bbl                         68265 non-null  float64\n",
      "dtypes: float64(12), int64(5), object(1)\n",
      "memory usage: 9.9+ MB\n"
     ]
    }
   ],
   "source": [
    "df.info()"
   ]
  },
  {
   "cell_type": "code",
   "execution_count": null,
   "metadata": {},
   "outputs": [],
   "source": []
  },
  {
   "cell_type": "code",
   "execution_count": 17,
   "metadata": {},
   "outputs": [
    {
     "data": {
      "text/plain": [
       "Index(['borough', 'tax_class_as_of_final_roll', 'block', 'lot', 'zip_code',\n",
       "       'residential_units', 'commercial_units', 'total_units', 'year_built',\n",
       "       'tax_class_at_time_of_sale', 'sale_price', 'latitude', 'longitude',\n",
       "       'community_board', 'council_district', 'census_tract', 'bin', 'bbl'],\n",
       "      dtype='object')"
      ]
     },
     "execution_count": 17,
     "metadata": {},
     "output_type": "execute_result"
    }
   ],
   "source": [
    "df.columns"
   ]
  },
  {
   "cell_type": "code",
   "execution_count": 18,
   "metadata": {},
   "outputs": [
    {
     "data": {
      "image/png": "[encoded data removed]",
      "text/plain": [
       "<Figure size 1440x1080 with 20 Axes>"
      ]
     },
     "metadata": {
      "needs_background": "light"
     },
     "output_type": "display_data"
    }
   ],
   "source": [
    "df.hist(bins=50, figsize = (20, 15))\n",
    "plt.show()"
   ]
  },
  {
   "cell_type": "code",
   "execution_count": 19,
   "metadata": {},
   "outputs": [],
   "source": [
    "y = df.borough\n",
    "df = df.drop(\"borough\", axis = 1)"
   ]
  },
  {
   "cell_type": "code",
   "execution_count": 20,
   "metadata": {},
   "outputs": [],
   "source": [
    "from sklearn.model_selection import train_test_split\n",
    "X_train, X_test, y_train, y_test = train_test_split(df, y, test_size=0.2, random_state=42, stratify=y) "
   ]
  },
  {
   "cell_type": "code",
   "execution_count": 21,
   "metadata": {},
   "outputs": [
    {
     "data": {
      "text/plain": [
       "(54612, 17)"
      ]
     },
     "execution_count": 21,
     "metadata": {},
     "output_type": "execute_result"
    }
   ],
   "source": [
    "X_train.shape\n"
   ]
  },
  {
   "cell_type": "code",
   "execution_count": 22,
   "metadata": {},
   "outputs": [
    {
     "data": {
      "text/plain": [
       "(13653, 17)"
      ]
     },
     "execution_count": 22,
     "metadata": {},
     "output_type": "execute_result"
    }
   ],
   "source": [
    "X_test.shape"
   ]
  },
  {
   "cell_type": "code",
   "execution_count": 26,
   "metadata": {},
   "outputs": [
    {
     "data": {
      "text/plain": [
       "(54612,)"
      ]
     },
     "execution_count": 26,
     "metadata": {},
     "output_type": "execute_result"
    }
   ],
   "source": [
    "y_train.shape"
   ]
  },
  {
   "cell_type": "raw",
   "metadata": {},
   "source": []
  },
  {
   "cell_type": "code",
   "execution_count": 23,
   "metadata": {},
   "outputs": [
    {
     "data": {
      "text/html": [
       "<div>\n",
       "<style scoped>\n",
       "    .dataframe tbody tr th:only-of-type {\n",
       "        vertical-align: middle;\n",
       "    }\n",
       "\n",
       "    .dataframe tbody tr th {\n",
       "        vertical-align: top;\n",
       "    }\n",
       "\n",
       "    .dataframe thead th {\n",
       "        text-align: right;\n",
       "    }\n",
       "</style>\n",
       "<table border=\"1\" class=\"dataframe\">\n",
       "  <thead>\n",
       "    <tr style=\"text-align: right;\">\n",
       "      <th></th>\n",
       "      <th>tax_class_as_of_final_roll</th>\n",
       "      <th>block</th>\n",
       "      <th>lot</th>\n",
       "      <th>zip_code</th>\n",
       "      <th>residential_units</th>\n",
       "      <th>commercial_units</th>\n",
       "      <th>total_units</th>\n",
       "      <th>year_built</th>\n",
       "      <th>tax_class_at_time_of_sale</th>\n",
       "      <th>sale_price</th>\n",
       "      <th>latitude</th>\n",
       "      <th>longitude</th>\n",
       "      <th>community_board</th>\n",
       "      <th>council_district</th>\n",
       "      <th>census_tract</th>\n",
       "      <th>bin</th>\n",
       "      <th>bbl</th>\n",
       "    </tr>\n",
       "  </thead>\n",
       "  <tbody>\n",
       "    <tr>\n",
       "      <th>count</th>\n",
       "      <td>54612</td>\n",
       "      <td>54612</td>\n",
       "      <td>54612</td>\n",
       "      <td>54612</td>\n",
       "      <td>54612</td>\n",
       "      <td>54612</td>\n",
       "      <td>54612</td>\n",
       "      <td>54612</td>\n",
       "      <td>54612</td>\n",
       "      <td>54612</td>\n",
       "      <td>54612</td>\n",
       "      <td>54612</td>\n",
       "      <td>54612</td>\n",
       "      <td>54612</td>\n",
       "      <td>54612</td>\n",
       "      <td>54612</td>\n",
       "      <td>54612</td>\n",
       "    </tr>\n",
       "    <tr>\n",
       "      <th>nunique</th>\n",
       "      <td>10</td>\n",
       "      <td>10718</td>\n",
       "      <td>1990</td>\n",
       "      <td>185</td>\n",
       "      <td>37</td>\n",
       "      <td>15</td>\n",
       "      <td>45</td>\n",
       "      <td>141</td>\n",
       "      <td>3</td>\n",
       "      <td>4439</td>\n",
       "      <td>37458</td>\n",
       "      <td>37982</td>\n",
       "      <td>60</td>\n",
       "      <td>51</td>\n",
       "      <td>1259</td>\n",
       "      <td>39943</td>\n",
       "      <td>39621</td>\n",
       "    </tr>\n",
       "  </tbody>\n",
       "</table>\n",
       "</div>"
      ],
      "text/plain": [
       "         tax_class_as_of_final_roll  block    lot  zip_code  \\\n",
       "count                         54612  54612  54612     54612   \n",
       "nunique                          10  10718   1990       185   \n",
       "\n",
       "         residential_units  commercial_units  total_units  year_built  \\\n",
       "count                54612             54612        54612       54612   \n",
       "nunique                 37                15           45         141   \n",
       "\n",
       "         tax_class_at_time_of_sale  sale_price  latitude  longitude  \\\n",
       "count                        54612       54612     54612      54612   \n",
       "nunique                          3        4439     37458      37982   \n",
       "\n",
       "         community_board  council_district  census_tract    bin    bbl  \n",
       "count              54612             54612         54612  54612  54612  \n",
       "nunique               60                51          1259  39943  39621  "
      ]
     },
     "execution_count": 23,
     "metadata": {},
     "output_type": "execute_result"
    }
   ],
   "source": [
    "X_train.agg(['count', 'nunique']) # unique values of columns"
   ]
  },
  {
   "cell_type": "markdown",
   "metadata": {},
   "source": [
    "#### Transforming the text categorical variable to numeric"
   ]
  },
  {
   "cell_type": "code",
   "execution_count": 28,
   "metadata": {},
   "outputs": [],
   "source": [
    "text_train = X_train[\"tax_class_as_of_final_roll\"]\n",
    "text_test = X_test[\"tax_class_as_of_final_roll\"]"
   ]
  },
  {
   "cell_type": "code",
   "execution_count": 29,
   "metadata": {},
   "outputs": [],
   "source": [
    "from sklearn.preprocessing import OneHotEncoder "
   ]
  },
  {
   "cell_type": "code",
   "execution_count": 38,
   "metadata": {},
   "outputs": [
    {
     "data": {
      "text/plain": [
       "array([[1., 0., 0., ..., 0., 0., 0.],\n",
       "       [0., 0., 0., ..., 0., 0., 0.],\n",
       "       [1., 0., 0., ..., 0., 0., 0.],\n",
       "       ...,\n",
       "       [1., 0., 0., ..., 0., 0., 0.],\n",
       "       [0., 0., 0., ..., 0., 0., 0.],\n",
       "       [0., 0., 0., ..., 0., 0., 0.]])"
      ]
     },
     "execution_count": 38,
     "metadata": {},
     "output_type": "execute_result"
    }
   ],
   "source": [
    "tax_class_train = X_train['tax_class_as_of_final_roll'].values.reshape(-1,1)\n",
    "OH_encoder = OneHotEncoder(handle_unknown='ignore', sparse=False)\n",
    "tax_class_train_OH_encod = OH_encoder.fit_transform(tax_class_train)\n",
    "tax_class_train_OH_encod"
   ]
  },
  {
   "cell_type": "code",
   "execution_count": 37,
   "metadata": {},
   "outputs": [
    {
     "data": {
      "text/plain": [
       "(54612, 10)"
      ]
     },
     "execution_count": 37,
     "metadata": {},
     "output_type": "execute_result"
    }
   ],
   "source": [
    "tax_class_train_OH_encod.shape"
   ]
  },
  {
   "cell_type": "code",
   "execution_count": 39,
   "metadata": {},
   "outputs": [
    {
     "data": {
      "text/plain": [
       "array([[0., 0., 0., ..., 0., 0., 0.],\n",
       "       [1., 0., 0., ..., 0., 0., 0.],\n",
       "       [1., 0., 0., ..., 0., 0., 0.],\n",
       "       ...,\n",
       "       [1., 0., 0., ..., 0., 0., 0.],\n",
       "       [0., 0., 0., ..., 0., 0., 0.],\n",
       "       [0., 0., 0., ..., 0., 0., 0.]])"
      ]
     },
     "execution_count": 39,
     "metadata": {},
     "output_type": "execute_result"
    }
   ],
   "source": [
    "tax_class_test = X_test['tax_class_as_of_final_roll'].values.reshape(-1,1)\n",
    "OH_encoder = OneHotEncoder(handle_unknown='ignore', sparse=False)\n",
    "tax_class_test_OH_encod = OH_encoder.fit_transform(tax_class_test)\n",
    "tax_class_test_OH_encod"
   ]
  },
  {
   "cell_type": "code",
   "execution_count": 40,
   "metadata": {},
   "outputs": [
    {
     "data": {
      "text/plain": [
       "(13653, 10)"
      ]
     },
     "execution_count": 40,
     "metadata": {},
     "output_type": "execute_result"
    }
   ],
   "source": [
    "tax_class_test_OH_encod.shape"
   ]
  },
  {
   "cell_type": "code",
   "execution_count": 46,
   "metadata": {},
   "outputs": [
    {
     "ename": "AttributeError",
     "evalue": "'numpy.ndarray' object has no attribute 'index'",
     "output_type": "error",
     "traceback": [
      "\u001b[0;31m---------------------------------------------------------------------------\u001b[0m",
      "\u001b[0;31mAttributeError\u001b[0m                            Traceback (most recent call last)",
      "\u001b[0;32m<ipython-input-46-004ab51f1256>\u001b[0m in \u001b[0;36m<module>\u001b[0;34m\u001b[0m\n\u001b[1;32m      1\u001b[0m \u001b[0;31m# One-hot encoding removed index; put it back\u001b[0m\u001b[0;34m\u001b[0m\u001b[0;34m\u001b[0m\u001b[0;34m\u001b[0m\u001b[0m\n\u001b[0;32m----> 2\u001b[0;31m \u001b[0mtax_class_train_OH_encod\u001b[0m\u001b[0;34m.\u001b[0m\u001b[0mindex\u001b[0m \u001b[0;34m=\u001b[0m \u001b[0mX_train\u001b[0m\u001b[0;34m.\u001b[0m\u001b[0mindex\u001b[0m\u001b[0;34m\u001b[0m\u001b[0;34m\u001b[0m\u001b[0m\n\u001b[0m\u001b[1;32m      3\u001b[0m \u001b[0mtax_class_test_OH_encod\u001b[0m\u001b[0;34m.\u001b[0m\u001b[0mindex\u001b[0m \u001b[0;34m=\u001b[0m \u001b[0mX_test\u001b[0m\u001b[0;34m.\u001b[0m\u001b[0mindex\u001b[0m\u001b[0;34m\u001b[0m\u001b[0;34m\u001b[0m\u001b[0m\n",
      "\u001b[0;31mAttributeError\u001b[0m: 'numpy.ndarray' object has no attribute 'index'"
     ]
    }
   ],
   "source": [
    "# One-hot encoding removed index; put it back\n",
    "tax_class_train_OH_encod.index = X_train.index\n",
    "tax_class_test_OH_encod.index = X_test.index"
   ]
  },
  {
   "cell_type": "code",
   "execution_count": 42,
   "metadata": {},
   "outputs": [
    {
     "data": {
      "text/plain": [
       "pandas.core.frame.DataFrame"
      ]
     },
     "execution_count": 42,
     "metadata": {},
     "output_type": "execute_result"
    }
   ],
   "source": [
    "type(X_train)"
   ]
  },
  {
   "cell_type": "code",
   "execution_count": 43,
   "metadata": {},
   "outputs": [
    {
     "data": {
      "text/plain": [
       "pandas.core.frame.DataFrame"
      ]
     },
     "execution_count": 43,
     "metadata": {},
     "output_type": "execute_result"
    }
   ],
   "source": [
    "type(X_test)"
   ]
  },
  {
   "cell_type": "code",
   "execution_count": 44,
   "metadata": {},
   "outputs": [],
   "source": [
    "g = X_train.index"
   ]
  },
  {
   "cell_type": "code",
   "execution_count": null,
   "metadata": {},
   "outputs": [],
   "source": []
  }
 ],
 "metadata": {
  "kernelspec": {
   "display_name": "Python 3",
   "language": "python",
   "name": "python3"
  },
  "language_info": {
   "codemirror_mode": {
    "name": "ipython",
    "version": 3
   },
   "file_extension": ".py",
   "mimetype": "text/x-python",
   "name": "python",
   "nbconvert_exporter": "python",
   "pygments_lexer": "ipython3",
   "version": "3.7.6"
  }
 },
 "nbformat": 4,
 "nbformat_minor": 4
}
