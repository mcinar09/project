{
 "cells": [
  {
   "cell_type": "markdown",
   "metadata": {},
   "source": [
    "## Advanced Data Analysis with Machine Learning\n",
    "\n",
    "Mukadder Cinar\n"
   ]
  },
  {
   "cell_type": "code",
   "execution_count": 61,
   "metadata": {},
   "outputs": [],
   "source": [
    "import numpy as np\n",
    "import pandas as pd\n",
    "import matplotlib.pyplot as plt\n",
    "%matplotlib inline"
   ]
  },
  {
   "cell_type": "code",
   "execution_count": 63,
   "metadata": {},
   "outputs": [],
   "source": [
    "from sklearn.model_selection import train_test_split"
   ]
  },
  {
   "cell_type": "markdown",
   "metadata": {},
   "source": [
    "## NYC Citywide Annualized Calender Sales Update\n",
    "Annualized sales information of properties sold in New York City\n",
    "\n",
    "\n",
    "Each row is an Annual Sales Information for Properties Sold in New York City.\n",
    "\n",
    "\n",
    "\n",
    "\n",
    "\n",
    "https://data.cityofnewyork.us/City-Government/NYC-Citywide-Annualized-Calendar-Sales-Update/w2pb-icbu\n",
    "\n",
    "description of the columns:\n",
    "\n",
    "https://www1.nyc.gov/assets/finance/downloads/pdf/07pdf/glossary_rsf071607.pdf"
   ]
  },
  {
   "cell_type": "code",
   "execution_count": 64,
   "metadata": {},
   "outputs": [
    {
     "data": {
      "text/html": [
       "<div>\n",
       "<style scoped>\n",
       "    .dataframe tbody tr th:only-of-type {\n",
       "        vertical-align: middle;\n",
       "    }\n",
       "\n",
       "    .dataframe tbody tr th {\n",
       "        vertical-align: top;\n",
       "    }\n",
       "\n",
       "    .dataframe thead th {\n",
       "        text-align: right;\n",
       "    }\n",
       "</style>\n",
       "<table border=\"1\" class=\"dataframe\">\n",
       "  <thead>\n",
       "    <tr style=\"text-align: right;\">\n",
       "      <th></th>\n",
       "      <th>BOROUGH</th>\n",
       "      <th>NEIGHBORHOOD</th>\n",
       "      <th>BUILDING CLASS CATEGORY</th>\n",
       "      <th>TAX CLASS AS OF FINAL ROLL</th>\n",
       "      <th>BLOCK</th>\n",
       "      <th>LOT</th>\n",
       "      <th>EASE-MENT</th>\n",
       "      <th>BUILDING CLASS AS OF FINAL ROLL</th>\n",
       "      <th>ADDRESS</th>\n",
       "      <th>APARTMENT NUMBER</th>\n",
       "      <th>...</th>\n",
       "      <th>SALE PRICE</th>\n",
       "      <th>SALE DATE</th>\n",
       "      <th>Latitude</th>\n",
       "      <th>Longitude</th>\n",
       "      <th>Community Board</th>\n",
       "      <th>Council District</th>\n",
       "      <th>Census Tract</th>\n",
       "      <th>BIN</th>\n",
       "      <th>BBL</th>\n",
       "      <th>NTA</th>\n",
       "    </tr>\n",
       "  </thead>\n",
       "  <tbody>\n",
       "    <tr>\n",
       "      <th>0</th>\n",
       "      <td>1</td>\n",
       "      <td>FINANCIAL</td>\n",
       "      <td>14  RENTALS - 4-10 UNIT</td>\n",
       "      <td>2A</td>\n",
       "      <td>7</td>\n",
       "      <td>38</td>\n",
       "      <td>NaN</td>\n",
       "      <td>S9</td>\n",
       "      <td>60 PEARL STREET</td>\n",
       "      <td>NaN</td>\n",
       "      <td>...</td>\n",
       "      <td>4027000</td>\n",
       "      <td>01/01/2016</td>\n",
       "      <td>40.703553</td>\n",
       "      <td>-74.011152</td>\n",
       "      <td>101.0</td>\n",
       "      <td>1.0</td>\n",
       "      <td>9.0</td>\n",
       "      <td>1000014.0</td>\n",
       "      <td>1.000070e+09</td>\n",
       "      <td>Battery Park City-Lower Manhattan</td>\n",
       "    </tr>\n",
       "    <tr>\n",
       "      <th>1</th>\n",
       "      <td>1</td>\n",
       "      <td>HARLEM-EAST</td>\n",
       "      <td>01  ONE FAMILY DWELLINGS</td>\n",
       "      <td>1</td>\n",
       "      <td>1643</td>\n",
       "      <td>122</td>\n",
       "      <td>NaN</td>\n",
       "      <td>A4</td>\n",
       "      <td>155 EAST 115 STREET</td>\n",
       "      <td>NaN</td>\n",
       "      <td>...</td>\n",
       "      <td>0</td>\n",
       "      <td>01/01/2016</td>\n",
       "      <td>40.797761</td>\n",
       "      <td>-73.941667</td>\n",
       "      <td>111.0</td>\n",
       "      <td>8.0</td>\n",
       "      <td>182.0</td>\n",
       "      <td>1052276.0</td>\n",
       "      <td>1.016430e+09</td>\n",
       "      <td>East Harlem North</td>\n",
       "    </tr>\n",
       "    <tr>\n",
       "      <th>2</th>\n",
       "      <td>1</td>\n",
       "      <td>HARLEM-EAST</td>\n",
       "      <td>07  RENTALS - WALKUP APARTMENTS</td>\n",
       "      <td>2</td>\n",
       "      <td>1643</td>\n",
       "      <td>123</td>\n",
       "      <td>NaN</td>\n",
       "      <td>C5</td>\n",
       "      <td>157 EAST 115 STREET</td>\n",
       "      <td>NaN</td>\n",
       "      <td>...</td>\n",
       "      <td>0</td>\n",
       "      <td>01/01/2016</td>\n",
       "      <td>40.797744</td>\n",
       "      <td>-73.941627</td>\n",
       "      <td>111.0</td>\n",
       "      <td>8.0</td>\n",
       "      <td>182.0</td>\n",
       "      <td>1052277.0</td>\n",
       "      <td>1.016430e+09</td>\n",
       "      <td>East Harlem North</td>\n",
       "    </tr>\n",
       "    <tr>\n",
       "      <th>3</th>\n",
       "      <td>1</td>\n",
       "      <td>MIDTOWN EAST</td>\n",
       "      <td>13  CONDOS - ELEVATOR APARTMENTS</td>\n",
       "      <td>2</td>\n",
       "      <td>1320</td>\n",
       "      <td>4247</td>\n",
       "      <td>NaN</td>\n",
       "      <td>R4</td>\n",
       "      <td>211 EAST 46TH   STREET</td>\n",
       "      <td>33J</td>\n",
       "      <td>...</td>\n",
       "      <td>0</td>\n",
       "      <td>01/01/2016</td>\n",
       "      <td>40.753118</td>\n",
       "      <td>-73.972085</td>\n",
       "      <td>106.0</td>\n",
       "      <td>4.0</td>\n",
       "      <td>90.0</td>\n",
       "      <td>1037599.0</td>\n",
       "      <td>1.013208e+09</td>\n",
       "      <td>Turtle Bay-East Midtown</td>\n",
       "    </tr>\n",
       "    <tr>\n",
       "      <th>4</th>\n",
       "      <td>1</td>\n",
       "      <td>MIDTOWN EAST</td>\n",
       "      <td>13  CONDOS - ELEVATOR APARTMENTS</td>\n",
       "      <td>2</td>\n",
       "      <td>1365</td>\n",
       "      <td>1526</td>\n",
       "      <td>NaN</td>\n",
       "      <td>R4</td>\n",
       "      <td>400 EAST 54TH   STREET</td>\n",
       "      <td>30H</td>\n",
       "      <td>...</td>\n",
       "      <td>0</td>\n",
       "      <td>01/01/2016</td>\n",
       "      <td>40.756237</td>\n",
       "      <td>-73.963995</td>\n",
       "      <td>106.0</td>\n",
       "      <td>4.0</td>\n",
       "      <td>8603.0</td>\n",
       "      <td>1076281.0</td>\n",
       "      <td>1.013658e+09</td>\n",
       "      <td>Turtle Bay-East Midtown</td>\n",
       "    </tr>\n",
       "  </tbody>\n",
       "</table>\n",
       "<p>5 rows × 29 columns</p>\n",
       "</div>"
      ],
      "text/plain": [
       "   BOROUGH  NEIGHBORHOOD           BUILDING CLASS CATEGORY  \\\n",
       "0        1     FINANCIAL           14  RENTALS - 4-10 UNIT   \n",
       "1        1   HARLEM-EAST          01  ONE FAMILY DWELLINGS   \n",
       "2        1   HARLEM-EAST   07  RENTALS - WALKUP APARTMENTS   \n",
       "3        1  MIDTOWN EAST  13  CONDOS - ELEVATOR APARTMENTS   \n",
       "4        1  MIDTOWN EAST  13  CONDOS - ELEVATOR APARTMENTS   \n",
       "\n",
       "  TAX CLASS AS OF FINAL ROLL  BLOCK   LOT  EASE-MENT  \\\n",
       "0                         2A      7    38        NaN   \n",
       "1                          1   1643   122        NaN   \n",
       "2                          2   1643   123        NaN   \n",
       "3                          2   1320  4247        NaN   \n",
       "4                          2   1365  1526        NaN   \n",
       "\n",
       "  BUILDING CLASS AS OF FINAL ROLL                 ADDRESS APARTMENT NUMBER  \\\n",
       "0                              S9         60 PEARL STREET              NaN   \n",
       "1                              A4     155 EAST 115 STREET              NaN   \n",
       "2                              C5     157 EAST 115 STREET              NaN   \n",
       "3                              R4  211 EAST 46TH   STREET              33J   \n",
       "4                              R4  400 EAST 54TH   STREET              30H   \n",
       "\n",
       "   ...  SALE PRICE   SALE DATE   Latitude  Longitude Community Board  \\\n",
       "0  ...     4027000  01/01/2016  40.703553 -74.011152           101.0   \n",
       "1  ...           0  01/01/2016  40.797761 -73.941667           111.0   \n",
       "2  ...           0  01/01/2016  40.797744 -73.941627           111.0   \n",
       "3  ...           0  01/01/2016  40.753118 -73.972085           106.0   \n",
       "4  ...           0  01/01/2016  40.756237 -73.963995           106.0   \n",
       "\n",
       "  Council District  Census Tract        BIN           BBL  \\\n",
       "0              1.0           9.0  1000014.0  1.000070e+09   \n",
       "1              8.0         182.0  1052276.0  1.016430e+09   \n",
       "2              8.0         182.0  1052277.0  1.016430e+09   \n",
       "3              4.0          90.0  1037599.0  1.013208e+09   \n",
       "4              4.0        8603.0  1076281.0  1.013658e+09   \n",
       "\n",
       "                                 NTA  \n",
       "0  Battery Park City-Lower Manhattan  \n",
       "1                  East Harlem North  \n",
       "2                  East Harlem North  \n",
       "3            Turtle Bay-East Midtown  \n",
       "4            Turtle Bay-East Midtown  \n",
       "\n",
       "[5 rows x 29 columns]"
      ]
     },
     "execution_count": 64,
     "metadata": {},
     "output_type": "execute_result"
    }
   ],
   "source": [
    "df = pd.read_csv(\"/Users/mukaddercinar/Downloads/NYC_Citywide_Annualized_Calendar_Sales_Update-2.csv\")\n",
    "df.head(5)"
   ]
  },
  {
   "cell_type": "code",
   "execution_count": 49,
   "metadata": {},
   "outputs": [
    {
     "data": {
      "text/plain": [
       "(345059, 29)"
      ]
     },
     "execution_count": 49,
     "metadata": {},
     "output_type": "execute_result"
    }
   ],
   "source": [
    "df.shape"
   ]
  },
  {
   "cell_type": "code",
   "execution_count": 50,
   "metadata": {},
   "outputs": [
    {
     "name": "stdout",
     "output_type": "stream",
     "text": [
      "<class 'pandas.core.frame.DataFrame'>\n",
      "RangeIndex: 345059 entries, 0 to 345058\n",
      "Data columns (total 29 columns):\n",
      " #   Column                           Non-Null Count   Dtype  \n",
      "---  ------                           --------------   -----  \n",
      " 0   BOROUGH                          345059 non-null  int64  \n",
      " 1   NEIGHBORHOOD                     345059 non-null  object \n",
      " 2   BUILDING CLASS CATEGORY          345059 non-null  object \n",
      " 3   TAX CLASS AS OF FINAL ROLL       341199 non-null  object \n",
      " 4   BLOCK                            345059 non-null  int64  \n",
      " 5   LOT                              345059 non-null  int64  \n",
      " 6   EASE-MENT                        0 non-null       float64\n",
      " 7   BUILDING CLASS AS OF FINAL ROLL  341199 non-null  object \n",
      " 8   ADDRESS                          345059 non-null  object \n",
      " 9   APARTMENT NUMBER                 74790 non-null   object \n",
      " 10  ZIP CODE                         345044 non-null  float64\n",
      " 11  RESIDENTIAL UNITS                329081 non-null  float64\n",
      " 12  COMMERCIAL UNITS                 329081 non-null  float64\n",
      " 13  TOTAL UNITS                      329081 non-null  float64\n",
      " 14  LAND SQUARE FEET                 329079 non-null  object \n",
      " 15  GROSS SQUARE FEET                329082 non-null  object \n",
      " 16  YEAR BUILT                       339532 non-null  float64\n",
      " 17  TAX CLASS AT TIME OF SALE        345059 non-null  int64  \n",
      " 18  BUILDING CLASS AT TIME OF SALE   345059 non-null  object \n",
      " 19  SALE PRICE                       345059 non-null  int64  \n",
      " 20  SALE DATE                        345059 non-null  object \n",
      " 21  Latitude                         334109 non-null  float64\n",
      " 22  Longitude                        334109 non-null  float64\n",
      " 23  Community Board                  334109 non-null  float64\n",
      " 24  Council District                 334109 non-null  float64\n",
      " 25  Census Tract                     334109 non-null  float64\n",
      " 26  BIN                              332909 non-null  float64\n",
      " 27  BBL                              332909 non-null  float64\n",
      " 28  NTA                              334109 non-null  object \n",
      "dtypes: float64(13), int64(5), object(11)\n",
      "memory usage: 76.3+ MB\n"
     ]
    }
   ],
   "source": [
    "df.info()"
   ]
  },
  {
   "cell_type": "code",
   "execution_count": 51,
   "metadata": {},
   "outputs": [
    {
     "data": {
      "text/plain": [
       "Index(['BOROUGH', 'NEIGHBORHOOD', 'BUILDING CLASS CATEGORY',\n",
       "       'TAX CLASS AS OF FINAL ROLL', 'BLOCK', 'LOT', 'EASE-MENT',\n",
       "       'BUILDING CLASS AS OF FINAL ROLL', 'ADDRESS', 'APARTMENT NUMBER',\n",
       "       'ZIP CODE', 'RESIDENTIAL UNITS', 'COMMERCIAL UNITS', 'TOTAL UNITS',\n",
       "       'LAND SQUARE FEET', 'GROSS SQUARE FEET', 'YEAR BUILT',\n",
       "       'TAX CLASS AT TIME OF SALE', 'BUILDING CLASS AT TIME OF SALE',\n",
       "       'SALE PRICE', 'SALE DATE', 'Latitude', 'Longitude', 'Community Board',\n",
       "       'Council District', 'Census Tract', 'BIN', 'BBL', 'NTA'],\n",
       "      dtype='object')"
      ]
     },
     "execution_count": 51,
     "metadata": {},
     "output_type": "execute_result"
    }
   ],
   "source": [
    "df.columns"
   ]
  },
  {
   "cell_type": "code",
   "execution_count": 52,
   "metadata": {},
   "outputs": [],
   "source": [
    "#replace the white space in columns by an underscore\n",
    "df.columns = df.columns.str.replace(' ', '_')"
   ]
  },
  {
   "cell_type": "code",
   "execution_count": 53,
   "metadata": {},
   "outputs": [
    {
     "data": {
      "text/plain": [
       "Index(['BOROUGH', 'NEIGHBORHOOD', 'BUILDING_CLASS_CATEGORY',\n",
       "       'TAX_CLASS_AS_OF_FINAL_ROLL', 'BLOCK', 'LOT', 'EASE-MENT',\n",
       "       'BUILDING_CLASS_AS_OF_FINAL_ROLL', 'ADDRESS', 'APARTMENT_NUMBER',\n",
       "       'ZIP_CODE', 'RESIDENTIAL_UNITS', 'COMMERCIAL_UNITS', 'TOTAL_UNITS',\n",
       "       'LAND_SQUARE_FEET', 'GROSS_SQUARE_FEET', 'YEAR_BUILT',\n",
       "       'TAX_CLASS_AT_TIME_OF_SALE', 'BUILDING_CLASS_AT_TIME_OF_SALE',\n",
       "       'SALE_PRICE', 'SALE_DATE', 'Latitude', 'Longitude', 'Community_Board',\n",
       "       'Council_District', 'Census_Tract', 'BIN', 'BBL', 'NTA'],\n",
       "      dtype='object')"
      ]
     },
     "execution_count": 53,
     "metadata": {},
     "output_type": "execute_result"
    }
   ],
   "source": [
    "df.columns"
   ]
  },
  {
   "cell_type": "code",
   "execution_count": 54,
   "metadata": {},
   "outputs": [],
   "source": [
    "# switching the column names to lowercase\n",
    "df.columns = map(str.lower, df.columns)"
   ]
  },
  {
   "cell_type": "code",
   "execution_count": 55,
   "metadata": {},
   "outputs": [
    {
     "data": {
      "text/plain": [
       "Index(['borough', 'neighborhood', 'building_class_category',\n",
       "       'tax_class_as_of_final_roll', 'block', 'lot', 'ease-ment',\n",
       "       'building_class_as_of_final_roll', 'address', 'apartment_number',\n",
       "       'zip_code', 'residential_units', 'commercial_units', 'total_units',\n",
       "       'land_square_feet', 'gross_square_feet', 'year_built',\n",
       "       'tax_class_at_time_of_sale', 'building_class_at_time_of_sale',\n",
       "       'sale_price', 'sale_date', 'latitude', 'longitude', 'community_board',\n",
       "       'council_district', 'census_tract', 'bin', 'bbl', 'nta'],\n",
       "      dtype='object')"
      ]
     },
     "execution_count": 55,
     "metadata": {},
     "output_type": "execute_result"
    }
   ],
   "source": [
    "df.columns"
   ]
  },
  {
   "cell_type": "code",
   "execution_count": 56,
   "metadata": {},
   "outputs": [
    {
     "data": {
      "text/html": [
       "<div>\n",
       "<style scoped>\n",
       "    .dataframe tbody tr th:only-of-type {\n",
       "        vertical-align: middle;\n",
       "    }\n",
       "\n",
       "    .dataframe tbody tr th {\n",
       "        vertical-align: top;\n",
       "    }\n",
       "\n",
       "    .dataframe thead th {\n",
       "        text-align: right;\n",
       "    }\n",
       "</style>\n",
       "<table border=\"1\" class=\"dataframe\">\n",
       "  <thead>\n",
       "    <tr style=\"text-align: right;\">\n",
       "      <th></th>\n",
       "      <th>borough</th>\n",
       "      <th>neighborhood</th>\n",
       "      <th>building_class_category</th>\n",
       "      <th>tax_class_as_of_final_roll</th>\n",
       "      <th>block</th>\n",
       "      <th>lot</th>\n",
       "      <th>building_class_as_of_final_roll</th>\n",
       "      <th>address</th>\n",
       "      <th>zip_code</th>\n",
       "      <th>residential_units</th>\n",
       "      <th>...</th>\n",
       "      <th>sale_price</th>\n",
       "      <th>sale_date</th>\n",
       "      <th>latitude</th>\n",
       "      <th>longitude</th>\n",
       "      <th>community_board</th>\n",
       "      <th>council_district</th>\n",
       "      <th>census_tract</th>\n",
       "      <th>bin</th>\n",
       "      <th>bbl</th>\n",
       "      <th>nta</th>\n",
       "    </tr>\n",
       "  </thead>\n",
       "  <tbody>\n",
       "    <tr>\n",
       "      <th>0</th>\n",
       "      <td>1</td>\n",
       "      <td>FINANCIAL</td>\n",
       "      <td>14  RENTALS - 4-10 UNIT</td>\n",
       "      <td>2A</td>\n",
       "      <td>7</td>\n",
       "      <td>38</td>\n",
       "      <td>S9</td>\n",
       "      <td>60 PEARL STREET</td>\n",
       "      <td>10004.0</td>\n",
       "      <td>3.0</td>\n",
       "      <td>...</td>\n",
       "      <td>4027000</td>\n",
       "      <td>01/01/2016</td>\n",
       "      <td>40.703553</td>\n",
       "      <td>-74.011152</td>\n",
       "      <td>101.0</td>\n",
       "      <td>1.0</td>\n",
       "      <td>9.0</td>\n",
       "      <td>1000014.0</td>\n",
       "      <td>1.000070e+09</td>\n",
       "      <td>Battery Park City-Lower Manhattan</td>\n",
       "    </tr>\n",
       "    <tr>\n",
       "      <th>1</th>\n",
       "      <td>1</td>\n",
       "      <td>HARLEM-EAST</td>\n",
       "      <td>01  ONE FAMILY DWELLINGS</td>\n",
       "      <td>1</td>\n",
       "      <td>1643</td>\n",
       "      <td>122</td>\n",
       "      <td>A4</td>\n",
       "      <td>155 EAST 115 STREET</td>\n",
       "      <td>10029.0</td>\n",
       "      <td>1.0</td>\n",
       "      <td>...</td>\n",
       "      <td>0</td>\n",
       "      <td>01/01/2016</td>\n",
       "      <td>40.797761</td>\n",
       "      <td>-73.941667</td>\n",
       "      <td>111.0</td>\n",
       "      <td>8.0</td>\n",
       "      <td>182.0</td>\n",
       "      <td>1052276.0</td>\n",
       "      <td>1.016430e+09</td>\n",
       "      <td>East Harlem North</td>\n",
       "    </tr>\n",
       "    <tr>\n",
       "      <th>2</th>\n",
       "      <td>1</td>\n",
       "      <td>HARLEM-EAST</td>\n",
       "      <td>07  RENTALS - WALKUP APARTMENTS</td>\n",
       "      <td>2</td>\n",
       "      <td>1643</td>\n",
       "      <td>123</td>\n",
       "      <td>C5</td>\n",
       "      <td>157 EAST 115 STREET</td>\n",
       "      <td>10029.0</td>\n",
       "      <td>12.0</td>\n",
       "      <td>...</td>\n",
       "      <td>0</td>\n",
       "      <td>01/01/2016</td>\n",
       "      <td>40.797744</td>\n",
       "      <td>-73.941627</td>\n",
       "      <td>111.0</td>\n",
       "      <td>8.0</td>\n",
       "      <td>182.0</td>\n",
       "      <td>1052277.0</td>\n",
       "      <td>1.016430e+09</td>\n",
       "      <td>East Harlem North</td>\n",
       "    </tr>\n",
       "  </tbody>\n",
       "</table>\n",
       "<p>3 rows × 27 columns</p>\n",
       "</div>"
      ],
      "text/plain": [
       "   borough neighborhood          building_class_category  \\\n",
       "0        1    FINANCIAL          14  RENTALS - 4-10 UNIT   \n",
       "1        1  HARLEM-EAST         01  ONE FAMILY DWELLINGS   \n",
       "2        1  HARLEM-EAST  07  RENTALS - WALKUP APARTMENTS   \n",
       "\n",
       "  tax_class_as_of_final_roll  block  lot building_class_as_of_final_roll  \\\n",
       "0                         2A      7   38                              S9   \n",
       "1                          1   1643  122                              A4   \n",
       "2                          2   1643  123                              C5   \n",
       "\n",
       "               address  zip_code  residential_units  ...  sale_price  \\\n",
       "0      60 PEARL STREET   10004.0                3.0  ...     4027000   \n",
       "1  155 EAST 115 STREET   10029.0                1.0  ...           0   \n",
       "2  157 EAST 115 STREET   10029.0               12.0  ...           0   \n",
       "\n",
       "    sale_date   latitude  longitude  community_board  council_district  \\\n",
       "0  01/01/2016  40.703553 -74.011152            101.0               1.0   \n",
       "1  01/01/2016  40.797761 -73.941667            111.0               8.0   \n",
       "2  01/01/2016  40.797744 -73.941627            111.0               8.0   \n",
       "\n",
       "  census_tract        bin           bbl                                nta  \n",
       "0          9.0  1000014.0  1.000070e+09  Battery Park City-Lower Manhattan  \n",
       "1        182.0  1052276.0  1.016430e+09                  East Harlem North  \n",
       "2        182.0  1052277.0  1.016430e+09                  East Harlem North  \n",
       "\n",
       "[3 rows x 27 columns]"
      ]
     },
     "execution_count": 56,
     "metadata": {},
     "output_type": "execute_result"
    }
   ],
   "source": [
    "# drop the columns that have a lot of missing values\n",
    "df1 = df.drop(columns = [\"ease-ment\",\"apartment_number\"])\n",
    "df1.head(3)"
   ]
  },
  {
   "cell_type": "code",
   "execution_count": 57,
   "metadata": {},
   "outputs": [
    {
     "data": {
      "text/plain": [
       "Index(['borough', 'neighborhood', 'building_class_category',\n",
       "       'tax_class_as_of_final_roll', 'block', 'lot',\n",
       "       'building_class_as_of_final_roll', 'address', 'zip_code',\n",
       "       'residential_units', 'commercial_units', 'total_units',\n",
       "       'land_square_feet', 'gross_square_feet', 'year_built',\n",
       "       'tax_class_at_time_of_sale', 'building_class_at_time_of_sale',\n",
       "       'sale_price', 'sale_date', 'latitude', 'longitude', 'community_board',\n",
       "       'council_district', 'census_tract', 'bin', 'bbl', 'nta'],\n",
       "      dtype='object')"
      ]
     },
     "execution_count": 57,
     "metadata": {},
     "output_type": "execute_result"
    }
   ],
   "source": [
    "df1.columns"
   ]
  },
  {
   "cell_type": "code",
   "execution_count": 58,
   "metadata": {},
   "outputs": [
    {
     "name": "stdout",
     "output_type": "stream",
     "text": [
      "<class 'pandas.core.frame.DataFrame'>\n",
      "RangeIndex: 345059 entries, 0 to 345058\n",
      "Data columns (total 27 columns):\n",
      " #   Column                           Non-Null Count   Dtype  \n",
      "---  ------                           --------------   -----  \n",
      " 0   borough                          345059 non-null  int64  \n",
      " 1   neighborhood                     345059 non-null  object \n",
      " 2   building_class_category          345059 non-null  object \n",
      " 3   tax_class_as_of_final_roll       341199 non-null  object \n",
      " 4   block                            345059 non-null  int64  \n",
      " 5   lot                              345059 non-null  int64  \n",
      " 6   building_class_as_of_final_roll  341199 non-null  object \n",
      " 7   address                          345059 non-null  object \n",
      " 8   zip_code                         345044 non-null  float64\n",
      " 9   residential_units                329081 non-null  float64\n",
      " 10  commercial_units                 329081 non-null  float64\n",
      " 11  total_units                      329081 non-null  float64\n",
      " 12  land_square_feet                 329079 non-null  object \n",
      " 13  gross_square_feet                329082 non-null  object \n",
      " 14  year_built                       339532 non-null  float64\n",
      " 15  tax_class_at_time_of_sale        345059 non-null  int64  \n",
      " 16  building_class_at_time_of_sale   345059 non-null  object \n",
      " 17  sale_price                       345059 non-null  int64  \n",
      " 18  sale_date                        345059 non-null  object \n",
      " 19  latitude                         334109 non-null  float64\n",
      " 20  longitude                        334109 non-null  float64\n",
      " 21  community_board                  334109 non-null  float64\n",
      " 22  council_district                 334109 non-null  float64\n",
      " 23  census_tract                     334109 non-null  float64\n",
      " 24  bin                              332909 non-null  float64\n",
      " 25  bbl                              332909 non-null  float64\n",
      " 26  nta                              334109 non-null  object \n",
      "dtypes: float64(12), int64(5), object(10)\n",
      "memory usage: 71.1+ MB\n"
     ]
    }
   ],
   "source": [
    "df1.info()"
   ]
  },
  {
   "cell_type": "code",
   "execution_count": 59,
   "metadata": {},
   "outputs": [],
   "source": [
    "df2 = df1.dropna() #drop the rows that have missing values"
   ]
  },
  {
   "cell_type": "code",
   "execution_count": 90,
   "metadata": {},
   "outputs": [
    {
     "name": "stdout",
     "output_type": "stream",
     "text": [
      "<class 'pandas.core.frame.DataFrame'>\n",
      "Int64Index: 309443 entries, 0 to 345058\n",
      "Data columns (total 27 columns):\n",
      " #   Column                           Non-Null Count   Dtype  \n",
      "---  ------                           --------------   -----  \n",
      " 0   borough                          309443 non-null  int64  \n",
      " 1   neighborhood                     309443 non-null  object \n",
      " 2   building_class_category          309443 non-null  object \n",
      " 3   tax_class_as_of_final_roll       309443 non-null  object \n",
      " 4   block                            309443 non-null  int64  \n",
      " 5   lot                              309443 non-null  int64  \n",
      " 6   building_class_as_of_final_roll  309443 non-null  object \n",
      " 7   address                          309443 non-null  object \n",
      " 8   zip_code                         309443 non-null  float64\n",
      " 9   residential_units                309443 non-null  float64\n",
      " 10  commercial_units                 309443 non-null  float64\n",
      " 11  total_units                      309443 non-null  float64\n",
      " 12  land_square_feet                 309443 non-null  object \n",
      " 13  gross_square_feet                309443 non-null  object \n",
      " 14  year_built                       309443 non-null  float64\n",
      " 15  tax_class_at_time_of_sale        309443 non-null  int64  \n",
      " 16  building_class_at_time_of_sale   309443 non-null  object \n",
      " 17  sale_price                       309443 non-null  int64  \n",
      " 18  sale_date                        309443 non-null  object \n",
      " 19  latitude                         309443 non-null  float64\n",
      " 20  longitude                        309443 non-null  float64\n",
      " 21  community_board                  309443 non-null  float64\n",
      " 22  council_district                 309443 non-null  float64\n",
      " 23  census_tract                     309443 non-null  float64\n",
      " 24  bin                              309443 non-null  float64\n",
      " 25  bbl                              309443 non-null  float64\n",
      " 26  nta                              309443 non-null  object \n",
      "dtypes: float64(12), int64(5), object(10)\n",
      "memory usage: 66.1+ MB\n"
     ]
    },
    {
     "data": {
      "text/plain": [
       "(309443, 27)"
      ]
     },
     "execution_count": 90,
     "metadata": {},
     "output_type": "execute_result"
    }
   ],
   "source": [
    "df2.info()\n",
    "df2.shape"
   ]
  },
  {
   "cell_type": "code",
   "execution_count": 62,
   "metadata": {},
   "outputs": [
    {
     "data": {
      "text/html": [
       "<div>\n",
       "<style scoped>\n",
       "    .dataframe tbody tr th:only-of-type {\n",
       "        vertical-align: middle;\n",
       "    }\n",
       "\n",
       "    .dataframe tbody tr th {\n",
       "        vertical-align: top;\n",
       "    }\n",
       "\n",
       "    .dataframe thead th {\n",
       "        text-align: right;\n",
       "    }\n",
       "</style>\n",
       "<table border=\"1\" class=\"dataframe\">\n",
       "  <thead>\n",
       "    <tr style=\"text-align: right;\">\n",
       "      <th></th>\n",
       "      <th>borough</th>\n",
       "      <th>block</th>\n",
       "      <th>lot</th>\n",
       "      <th>zip_code</th>\n",
       "      <th>residential_units</th>\n",
       "      <th>commercial_units</th>\n",
       "      <th>total_units</th>\n",
       "      <th>year_built</th>\n",
       "      <th>tax_class_at_time_of_sale</th>\n",
       "      <th>sale_price</th>\n",
       "      <th>latitude</th>\n",
       "      <th>longitude</th>\n",
       "      <th>community_board</th>\n",
       "      <th>council_district</th>\n",
       "      <th>census_tract</th>\n",
       "      <th>bin</th>\n",
       "      <th>bbl</th>\n",
       "    </tr>\n",
       "  </thead>\n",
       "  <tbody>\n",
       "    <tr>\n",
       "      <th>count</th>\n",
       "      <td>309443.000000</td>\n",
       "      <td>309443.000000</td>\n",
       "      <td>309443.000000</td>\n",
       "      <td>309443.000000</td>\n",
       "      <td>309443.000000</td>\n",
       "      <td>309443.000000</td>\n",
       "      <td>309443.000000</td>\n",
       "      <td>309443.000000</td>\n",
       "      <td>309443.000000</td>\n",
       "      <td>3.094430e+05</td>\n",
       "      <td>309443.000000</td>\n",
       "      <td>309443.000000</td>\n",
       "      <td>309443.000000</td>\n",
       "      <td>309443.000000</td>\n",
       "      <td>309443.000000</td>\n",
       "      <td>3.094430e+05</td>\n",
       "      <td>3.094430e+05</td>\n",
       "    </tr>\n",
       "    <tr>\n",
       "      <th>mean</th>\n",
       "      <td>3.041374</td>\n",
       "      <td>4379.971255</td>\n",
       "      <td>355.403018</td>\n",
       "      <td>10851.464690</td>\n",
       "      <td>2.062170</td>\n",
       "      <td>0.231571</td>\n",
       "      <td>2.331955</td>\n",
       "      <td>1844.810311</td>\n",
       "      <td>1.606545</td>\n",
       "      <td>1.156740e+06</td>\n",
       "      <td>40.706038</td>\n",
       "      <td>-73.930453</td>\n",
       "      <td>311.578562</td>\n",
       "      <td>27.241602</td>\n",
       "      <td>9776.591986</td>\n",
       "      <td>3.189619e+06</td>\n",
       "      <td>3.079879e+09</td>\n",
       "    </tr>\n",
       "    <tr>\n",
       "      <th>std</th>\n",
       "      <td>1.277214</td>\n",
       "      <td>3634.684353</td>\n",
       "      <td>641.843317</td>\n",
       "      <td>695.417122</td>\n",
       "      <td>14.077898</td>\n",
       "      <td>7.077518</td>\n",
       "      <td>15.861687</td>\n",
       "      <td>441.430102</td>\n",
       "      <td>0.818519</td>\n",
       "      <td>1.256284e+07</td>\n",
       "      <td>0.080641</td>\n",
       "      <td>0.105252</td>\n",
       "      <td>127.472656</td>\n",
       "      <td>15.653743</td>\n",
       "      <td>26568.301985</td>\n",
       "      <td>1.329697e+06</td>\n",
       "      <td>1.298009e+09</td>\n",
       "    </tr>\n",
       "    <tr>\n",
       "      <th>min</th>\n",
       "      <td>1.000000</td>\n",
       "      <td>1.000000</td>\n",
       "      <td>1.000000</td>\n",
       "      <td>0.000000</td>\n",
       "      <td>0.000000</td>\n",
       "      <td>0.000000</td>\n",
       "      <td>0.000000</td>\n",
       "      <td>0.000000</td>\n",
       "      <td>1.000000</td>\n",
       "      <td>0.000000e+00</td>\n",
       "      <td>40.498924</td>\n",
       "      <td>-74.254897</td>\n",
       "      <td>101.000000</td>\n",
       "      <td>1.000000</td>\n",
       "      <td>1.000000</td>\n",
       "      <td>1.000000e+06</td>\n",
       "      <td>0.000000e+00</td>\n",
       "    </tr>\n",
       "    <tr>\n",
       "      <th>25%</th>\n",
       "      <td>2.000000</td>\n",
       "      <td>1347.000000</td>\n",
       "      <td>22.000000</td>\n",
       "      <td>10307.000000</td>\n",
       "      <td>1.000000</td>\n",
       "      <td>0.000000</td>\n",
       "      <td>1.000000</td>\n",
       "      <td>1920.000000</td>\n",
       "      <td>1.000000</td>\n",
       "      <td>0.000000e+00</td>\n",
       "      <td>40.643770</td>\n",
       "      <td>-73.984321</td>\n",
       "      <td>210.000000</td>\n",
       "      <td>13.000000</td>\n",
       "      <td>152.000000</td>\n",
       "      <td>2.066501e+06</td>\n",
       "      <td>2.043408e+09</td>\n",
       "    </tr>\n",
       "    <tr>\n",
       "      <th>50%</th>\n",
       "      <td>3.000000</td>\n",
       "      <td>3471.000000</td>\n",
       "      <td>50.000000</td>\n",
       "      <td>11211.000000</td>\n",
       "      <td>1.000000</td>\n",
       "      <td>0.000000</td>\n",
       "      <td>1.000000</td>\n",
       "      <td>1940.000000</td>\n",
       "      <td>1.000000</td>\n",
       "      <td>4.200000e+05</td>\n",
       "      <td>40.709273</td>\n",
       "      <td>-73.941731</td>\n",
       "      <td>314.000000</td>\n",
       "      <td>28.000000</td>\n",
       "      <td>401.000000</td>\n",
       "      <td>3.244438e+06</td>\n",
       "      <td>3.065808e+09</td>\n",
       "    </tr>\n",
       "    <tr>\n",
       "      <th>75%</th>\n",
       "      <td>4.000000</td>\n",
       "      <td>6501.000000</td>\n",
       "      <td>311.000000</td>\n",
       "      <td>11358.000000</td>\n",
       "      <td>2.000000</td>\n",
       "      <td>0.000000</td>\n",
       "      <td>2.000000</td>\n",
       "      <td>1970.000000</td>\n",
       "      <td>2.000000</td>\n",
       "      <td>8.300000e+05</td>\n",
       "      <td>40.760245</td>\n",
       "      <td>-73.854658</td>\n",
       "      <td>409.000000</td>\n",
       "      <td>41.000000</td>\n",
       "      <td>1120.000000</td>\n",
       "      <td>4.220936e+06</td>\n",
       "      <td>4.073060e+09</td>\n",
       "    </tr>\n",
       "    <tr>\n",
       "      <th>max</th>\n",
       "      <td>5.000000</td>\n",
       "      <td>16350.000000</td>\n",
       "      <td>9133.000000</td>\n",
       "      <td>11697.000000</td>\n",
       "      <td>2229.000000</td>\n",
       "      <td>2261.000000</td>\n",
       "      <td>2261.000000</td>\n",
       "      <td>2020.000000</td>\n",
       "      <td>4.000000</td>\n",
       "      <td>2.397502e+09</td>\n",
       "      <td>40.912869</td>\n",
       "      <td>-73.700376</td>\n",
       "      <td>503.000000</td>\n",
       "      <td>51.000000</td>\n",
       "      <td>157903.000000</td>\n",
       "      <td>5.516445e+06</td>\n",
       "      <td>5.080500e+09</td>\n",
       "    </tr>\n",
       "  </tbody>\n",
       "</table>\n",
       "</div>"
      ],
      "text/plain": [
       "             borough          block            lot       zip_code  \\\n",
       "count  309443.000000  309443.000000  309443.000000  309443.000000   \n",
       "mean        3.041374    4379.971255     355.403018   10851.464690   \n",
       "std         1.277214    3634.684353     641.843317     695.417122   \n",
       "min         1.000000       1.000000       1.000000       0.000000   \n",
       "25%         2.000000    1347.000000      22.000000   10307.000000   \n",
       "50%         3.000000    3471.000000      50.000000   11211.000000   \n",
       "75%         4.000000    6501.000000     311.000000   11358.000000   \n",
       "max         5.000000   16350.000000    9133.000000   11697.000000   \n",
       "\n",
       "       residential_units  commercial_units    total_units     year_built  \\\n",
       "count      309443.000000     309443.000000  309443.000000  309443.000000   \n",
       "mean            2.062170          0.231571       2.331955    1844.810311   \n",
       "std            14.077898          7.077518      15.861687     441.430102   \n",
       "min             0.000000          0.000000       0.000000       0.000000   \n",
       "25%             1.000000          0.000000       1.000000    1920.000000   \n",
       "50%             1.000000          0.000000       1.000000    1940.000000   \n",
       "75%             2.000000          0.000000       2.000000    1970.000000   \n",
       "max          2229.000000       2261.000000    2261.000000    2020.000000   \n",
       "\n",
       "       tax_class_at_time_of_sale    sale_price       latitude      longitude  \\\n",
       "count              309443.000000  3.094430e+05  309443.000000  309443.000000   \n",
       "mean                    1.606545  1.156740e+06      40.706038     -73.930453   \n",
       "std                     0.818519  1.256284e+07       0.080641       0.105252   \n",
       "min                     1.000000  0.000000e+00      40.498924     -74.254897   \n",
       "25%                     1.000000  0.000000e+00      40.643770     -73.984321   \n",
       "50%                     1.000000  4.200000e+05      40.709273     -73.941731   \n",
       "75%                     2.000000  8.300000e+05      40.760245     -73.854658   \n",
       "max                     4.000000  2.397502e+09      40.912869     -73.700376   \n",
       "\n",
       "       community_board  council_district   census_tract           bin  \\\n",
       "count    309443.000000     309443.000000  309443.000000  3.094430e+05   \n",
       "mean        311.578562         27.241602    9776.591986  3.189619e+06   \n",
       "std         127.472656         15.653743   26568.301985  1.329697e+06   \n",
       "min         101.000000          1.000000       1.000000  1.000000e+06   \n",
       "25%         210.000000         13.000000     152.000000  2.066501e+06   \n",
       "50%         314.000000         28.000000     401.000000  3.244438e+06   \n",
       "75%         409.000000         41.000000    1120.000000  4.220936e+06   \n",
       "max         503.000000         51.000000  157903.000000  5.516445e+06   \n",
       "\n",
       "                bbl  \n",
       "count  3.094430e+05  \n",
       "mean   3.079879e+09  \n",
       "std    1.298009e+09  \n",
       "min    0.000000e+00  \n",
       "25%    2.043408e+09  \n",
       "50%    3.065808e+09  \n",
       "75%    4.073060e+09  \n",
       "max    5.080500e+09  "
      ]
     },
     "execution_count": 62,
     "metadata": {},
     "output_type": "execute_result"
    }
   ],
   "source": [
    "df2.describe()"
   ]
  },
  {
   "cell_type": "code",
   "execution_count": 67,
   "metadata": {},
   "outputs": [
    {
     "data": {
      "image/png": "[encoded data removed]",
      "text/plain": [
       "<Figure size 1440x1080 with 20 Axes>"
      ]
     },
     "metadata": {
      "needs_background": "light"
     },
     "output_type": "display_data"
    }
   ],
   "source": [
    "df2.hist(bins=50, figsize = (20, 15))\n",
    "plt.show()"
   ]
  },
  {
   "cell_type": "code",
   "execution_count": 68,
   "metadata": {},
   "outputs": [
    {
     "data": {
      "text/plain": [
       "<matplotlib.axes._subplots.AxesSubplot at 0x126eed978>"
      ]
     },
     "execution_count": 68,
     "metadata": {},
     "output_type": "execute_result"
    },
    {
     "data": {
      "image/png": "[encoded data removed]",
      "text/plain": [
       "<Figure size 432x288 with 1 Axes>"
      ]
     },
     "metadata": {
      "needs_background": "light"
     },
     "output_type": "display_data"
    }
   ],
   "source": [
    "df2.plot(kind = \"scatter\", x = 'longitude', y = 'latitude')"
   ]
  },
  {
   "cell_type": "code",
   "execution_count": 77,
   "metadata": {},
   "outputs": [
    {
     "data": {
      "text/plain": [
       "<matplotlib.axes._subplots.AxesSubplot at 0x12242c128>"
      ]
     },
     "execution_count": 77,
     "metadata": {},
     "output_type": "execute_result"
    },
    {
     "data": {
      "image/png": "[encoded data removed]",
      "text/plain": [
       "<Figure size 432x288 with 1 Axes>"
      ]
     },
     "metadata": {
      "needs_background": "light"
     },
     "output_type": "display_data"
    }
   ],
   "source": [
    "df2.plot(kind = \"scatter\", x = 'longitude', y = 'latitude', alpha = 0.1)"
   ]
  },
  {
   "cell_type": "code",
   "execution_count": 78,
   "metadata": {},
   "outputs": [],
   "source": [
    "corr_matrix = df2.corr()"
   ]
  },
  {
   "cell_type": "code",
   "execution_count": 79,
   "metadata": {},
   "outputs": [
    {
     "data": {
      "text/plain": [
       "sale_price                   1.000000\n",
       "total_units                  0.143949\n",
       "residential_units            0.121021\n",
       "tax_class_at_time_of_sale    0.086924\n",
       "commercial_units             0.081613\n",
       "latitude                     0.027307\n",
       "lot                          0.008853\n",
       "year_built                   0.001950\n",
       "census_tract                -0.015687\n",
       "longitude                   -0.022903\n",
       "zip_code                    -0.046047\n",
       "block                       -0.048916\n",
       "council_district            -0.061410\n",
       "borough                     -0.068259\n",
       "bbl                         -0.068651\n",
       "bin                         -0.068856\n",
       "community_board             -0.069452\n",
       "Name: sale_price, dtype: float64"
      ]
     },
     "execution_count": 79,
     "metadata": {},
     "output_type": "execute_result"
    }
   ],
   "source": [
    "corr_matrix[\"sale_price\"].sort_values(ascending=False)"
   ]
  },
  {
   "cell_type": "code",
   "execution_count": 82,
   "metadata": {},
   "outputs": [],
   "source": [
    "y = df2.sale_price\n",
    "x = df2.drop(\"sale_price\", axis = 1) "
   ]
  },
  {
   "cell_type": "code",
   "execution_count": 86,
   "metadata": {},
   "outputs": [],
   "source": [
    "x_train, y_train, x_test, y_test = train_test_split(x, y, test_size = 0.2)"
   ]
  },
  {
   "cell_type": "code",
   "execution_count": 87,
   "metadata": {
    "scrolled": true
   },
   "outputs": [
    {
     "data": {
      "text/html": [
       "<div>\n",
       "<style scoped>\n",
       "    .dataframe tbody tr th:only-of-type {\n",
       "        vertical-align: middle;\n",
       "    }\n",
       "\n",
       "    .dataframe tbody tr th {\n",
       "        vertical-align: top;\n",
       "    }\n",
       "\n",
       "    .dataframe thead th {\n",
       "        text-align: right;\n",
       "    }\n",
       "</style>\n",
       "<table border=\"1\" class=\"dataframe\">\n",
       "  <thead>\n",
       "    <tr style=\"text-align: right;\">\n",
       "      <th></th>\n",
       "      <th>borough</th>\n",
       "      <th>neighborhood</th>\n",
       "      <th>building_class_category</th>\n",
       "      <th>tax_class_as_of_final_roll</th>\n",
       "      <th>block</th>\n",
       "      <th>lot</th>\n",
       "      <th>building_class_as_of_final_roll</th>\n",
       "      <th>address</th>\n",
       "      <th>zip_code</th>\n",
       "      <th>residential_units</th>\n",
       "      <th>...</th>\n",
       "      <th>building_class_at_time_of_sale</th>\n",
       "      <th>sale_date</th>\n",
       "      <th>latitude</th>\n",
       "      <th>longitude</th>\n",
       "      <th>community_board</th>\n",
       "      <th>council_district</th>\n",
       "      <th>census_tract</th>\n",
       "      <th>bin</th>\n",
       "      <th>bbl</th>\n",
       "      <th>nta</th>\n",
       "    </tr>\n",
       "  </thead>\n",
       "  <tbody>\n",
       "    <tr>\n",
       "      <th>42752</th>\n",
       "      <td>1</td>\n",
       "      <td>LOWER EAST SIDE</td>\n",
       "      <td>10  COOPS - ELEVATOR APARTMENTS</td>\n",
       "      <td>2</td>\n",
       "      <td>311</td>\n",
       "      <td>13</td>\n",
       "      <td>D4</td>\n",
       "      <td>212 EAST BROADWAY, G104</td>\n",
       "      <td>10002.0</td>\n",
       "      <td>0.0</td>\n",
       "      <td>...</td>\n",
       "      <td>D4</td>\n",
       "      <td>06/24/2016</td>\n",
       "      <td>40.714285</td>\n",
       "      <td>-73.987591</td>\n",
       "      <td>103.0</td>\n",
       "      <td>1.0</td>\n",
       "      <td>1401.0</td>\n",
       "      <td>1077607.0</td>\n",
       "      <td>1.003110e+09</td>\n",
       "      <td>Lower East Side</td>\n",
       "    </tr>\n",
       "    <tr>\n",
       "      <th>204705</th>\n",
       "      <td>4</td>\n",
       "      <td>SPRINGFIELD GARDENS</td>\n",
       "      <td>02 TWO FAMILY DWELLINGS</td>\n",
       "      <td>1</td>\n",
       "      <td>13051</td>\n",
       "      <td>40</td>\n",
       "      <td>B3</td>\n",
       "      <td>141-31 181ST STREET</td>\n",
       "      <td>11413.0</td>\n",
       "      <td>2.0</td>\n",
       "      <td>...</td>\n",
       "      <td>B3</td>\n",
       "      <td>04/27/2018</td>\n",
       "      <td>40.670479</td>\n",
       "      <td>-73.762645</td>\n",
       "      <td>412.0</td>\n",
       "      <td>31.0</td>\n",
       "      <td>330.0</td>\n",
       "      <td>4280706.0</td>\n",
       "      <td>4.130510e+09</td>\n",
       "      <td>Springfield Gardens North</td>\n",
       "    </tr>\n",
       "    <tr>\n",
       "      <th>291277</th>\n",
       "      <td>3</td>\n",
       "      <td>BOROUGH PARK</td>\n",
       "      <td>02 TWO FAMILY DWELLINGS</td>\n",
       "      <td>1</td>\n",
       "      <td>5461</td>\n",
       "      <td>12</td>\n",
       "      <td>B2</td>\n",
       "      <td>1818 50TH STREET</td>\n",
       "      <td>11204.0</td>\n",
       "      <td>2.0</td>\n",
       "      <td>...</td>\n",
       "      <td>B2</td>\n",
       "      <td>03/03/2019</td>\n",
       "      <td>40.627398</td>\n",
       "      <td>-73.981011</td>\n",
       "      <td>312.0</td>\n",
       "      <td>44.0</td>\n",
       "      <td>474.0</td>\n",
       "      <td>3129470.0</td>\n",
       "      <td>3.054610e+09</td>\n",
       "      <td>Borough Park</td>\n",
       "    </tr>\n",
       "    <tr>\n",
       "      <th>139580</th>\n",
       "      <td>5</td>\n",
       "      <td>ANNADALE</td>\n",
       "      <td>02 TWO FAMILY DWELLINGS</td>\n",
       "      <td>1</td>\n",
       "      <td>6360</td>\n",
       "      <td>1</td>\n",
       "      <td>B2</td>\n",
       "      <td>639 BARCLAY AVENUE</td>\n",
       "      <td>10312.0</td>\n",
       "      <td>2.0</td>\n",
       "      <td>...</td>\n",
       "      <td>B2</td>\n",
       "      <td>07/26/2017</td>\n",
       "      <td>40.527169</td>\n",
       "      <td>-74.167450</td>\n",
       "      <td>503.0</td>\n",
       "      <td>51.0</td>\n",
       "      <td>176.0</td>\n",
       "      <td>5131948.0</td>\n",
       "      <td>5.063600e+09</td>\n",
       "      <td>Annadale-Huguenot-Prince's Bay-Eltingville</td>\n",
       "    </tr>\n",
       "    <tr>\n",
       "      <th>28624</th>\n",
       "      <td>4</td>\n",
       "      <td>ASTORIA</td>\n",
       "      <td>03  THREE FAMILY DWELLINGS</td>\n",
       "      <td>1</td>\n",
       "      <td>646</td>\n",
       "      <td>58</td>\n",
       "      <td>C0</td>\n",
       "      <td>32-48 36TH STREET</td>\n",
       "      <td>11106.0</td>\n",
       "      <td>3.0</td>\n",
       "      <td>...</td>\n",
       "      <td>C0</td>\n",
       "      <td>04/28/2016</td>\n",
       "      <td>40.759688</td>\n",
       "      <td>-73.921742</td>\n",
       "      <td>401.0</td>\n",
       "      <td>22.0</td>\n",
       "      <td>59.0</td>\n",
       "      <td>4009704.0</td>\n",
       "      <td>4.006460e+09</td>\n",
       "      <td>Astoria</td>\n",
       "    </tr>\n",
       "  </tbody>\n",
       "</table>\n",
       "<p>5 rows × 26 columns</p>\n",
       "</div>"
      ],
      "text/plain": [
       "        borough         neighborhood          building_class_category  \\\n",
       "42752         1      LOWER EAST SIDE  10  COOPS - ELEVATOR APARTMENTS   \n",
       "204705        4  SPRINGFIELD GARDENS          02 TWO FAMILY DWELLINGS   \n",
       "291277        3         BOROUGH PARK          02 TWO FAMILY DWELLINGS   \n",
       "139580        5             ANNADALE          02 TWO FAMILY DWELLINGS   \n",
       "28624         4              ASTORIA       03  THREE FAMILY DWELLINGS   \n",
       "\n",
       "       tax_class_as_of_final_roll  block  lot building_class_as_of_final_roll  \\\n",
       "42752                           2    311   13                              D4   \n",
       "204705                          1  13051   40                              B3   \n",
       "291277                          1   5461   12                              B2   \n",
       "139580                          1   6360    1                              B2   \n",
       "28624                           1    646   58                              C0   \n",
       "\n",
       "                        address  zip_code  residential_units  ...  \\\n",
       "42752   212 EAST BROADWAY, G104   10002.0                0.0  ...   \n",
       "204705      141-31 181ST STREET   11413.0                2.0  ...   \n",
       "291277         1818 50TH STREET   11204.0                2.0  ...   \n",
       "139580       639 BARCLAY AVENUE   10312.0                2.0  ...   \n",
       "28624         32-48 36TH STREET   11106.0                3.0  ...   \n",
       "\n",
       "        building_class_at_time_of_sale   sale_date   latitude  longitude  \\\n",
       "42752                               D4  06/24/2016  40.714285 -73.987591   \n",
       "204705                              B3  04/27/2018  40.670479 -73.762645   \n",
       "291277                              B2  03/03/2019  40.627398 -73.981011   \n",
       "139580                              B2  07/26/2017  40.527169 -74.167450   \n",
       "28624                               C0  04/28/2016  40.759688 -73.921742   \n",
       "\n",
       "        community_board  council_district census_tract        bin  \\\n",
       "42752             103.0               1.0       1401.0  1077607.0   \n",
       "204705            412.0              31.0        330.0  4280706.0   \n",
       "291277            312.0              44.0        474.0  3129470.0   \n",
       "139580            503.0              51.0        176.0  5131948.0   \n",
       "28624             401.0              22.0         59.0  4009704.0   \n",
       "\n",
       "                 bbl                                         nta  \n",
       "42752   1.003110e+09                             Lower East Side  \n",
       "204705  4.130510e+09                   Springfield Gardens North  \n",
       "291277  3.054610e+09                                Borough Park  \n",
       "139580  5.063600e+09  Annadale-Huguenot-Prince's Bay-Eltingville  \n",
       "28624   4.006460e+09                                     Astoria  \n",
       "\n",
       "[5 rows x 26 columns]"
      ]
     },
     "execution_count": 87,
     "metadata": {},
     "output_type": "execute_result"
    }
   ],
   "source": [
    "x_train.head()"
   ]
  },
  {
   "cell_type": "code",
   "execution_count": 89,
   "metadata": {},
   "outputs": [
    {
     "data": {
      "text/plain": [
       "(247554, 26)"
      ]
     },
     "execution_count": 89,
     "metadata": {},
     "output_type": "execute_result"
    }
   ],
   "source": [
    "x_train.shape"
   ]
  },
  {
   "cell_type": "markdown",
   "metadata": {},
   "source": [
    "### Transformation of Categorical Attributes\n",
    "\n"
   ]
  },
  {
   "cell_type": "code",
   "execution_count": 131,
   "metadata": {},
   "outputs": [
    {
     "data": {
      "text/html": [
       "<div>\n",
       "<style scoped>\n",
       "    .dataframe tbody tr th:only-of-type {\n",
       "        vertical-align: middle;\n",
       "    }\n",
       "\n",
       "    .dataframe tbody tr th {\n",
       "        vertical-align: top;\n",
       "    }\n",
       "\n",
       "    .dataframe thead th {\n",
       "        text-align: right;\n",
       "    }\n",
       "</style>\n",
       "<table border=\"1\" class=\"dataframe\">\n",
       "  <thead>\n",
       "    <tr style=\"text-align: right;\">\n",
       "      <th></th>\n",
       "      <th>borough</th>\n",
       "      <th>neighborhood</th>\n",
       "      <th>building_class_category</th>\n",
       "      <th>tax_class_as_of_final_roll</th>\n",
       "      <th>block</th>\n",
       "      <th>lot</th>\n",
       "      <th>building_class_as_of_final_roll</th>\n",
       "      <th>address</th>\n",
       "      <th>zip_code</th>\n",
       "      <th>residential_units</th>\n",
       "      <th>...</th>\n",
       "      <th>sale_price</th>\n",
       "      <th>sale_date</th>\n",
       "      <th>latitude</th>\n",
       "      <th>longitude</th>\n",
       "      <th>community_board</th>\n",
       "      <th>council_district</th>\n",
       "      <th>census_tract</th>\n",
       "      <th>bin</th>\n",
       "      <th>bbl</th>\n",
       "      <th>nta</th>\n",
       "    </tr>\n",
       "  </thead>\n",
       "  <tbody>\n",
       "    <tr>\n",
       "      <th>count</th>\n",
       "      <td>309443</td>\n",
       "      <td>309443</td>\n",
       "      <td>309443</td>\n",
       "      <td>309443</td>\n",
       "      <td>309443</td>\n",
       "      <td>309443</td>\n",
       "      <td>309443</td>\n",
       "      <td>309443</td>\n",
       "      <td>309443</td>\n",
       "      <td>309443</td>\n",
       "      <td>...</td>\n",
       "      <td>309443</td>\n",
       "      <td>309443</td>\n",
       "      <td>309443</td>\n",
       "      <td>309443</td>\n",
       "      <td>309443</td>\n",
       "      <td>309443</td>\n",
       "      <td>309443</td>\n",
       "      <td>309443</td>\n",
       "      <td>309443</td>\n",
       "      <td>309443</td>\n",
       "    </tr>\n",
       "    <tr>\n",
       "      <th>nunique</th>\n",
       "      <td>5</td>\n",
       "      <td>260</td>\n",
       "      <td>90</td>\n",
       "      <td>10</td>\n",
       "      <td>13199</td>\n",
       "      <td>4137</td>\n",
       "      <td>185</td>\n",
       "      <td>240526</td>\n",
       "      <td>191</td>\n",
       "      <td>280</td>\n",
       "      <td>...</td>\n",
       "      <td>25219</td>\n",
       "      <td>1459</td>\n",
       "      <td>129861</td>\n",
       "      <td>137279</td>\n",
       "      <td>62</td>\n",
       "      <td>51</td>\n",
       "      <td>1292</td>\n",
       "      <td>171876</td>\n",
       "      <td>167171</td>\n",
       "      <td>192</td>\n",
       "    </tr>\n",
       "  </tbody>\n",
       "</table>\n",
       "<p>2 rows × 27 columns</p>\n",
       "</div>"
      ],
      "text/plain": [
       "         borough  neighborhood  building_class_category  \\\n",
       "count     309443        309443                   309443   \n",
       "nunique        5           260                       90   \n",
       "\n",
       "         tax_class_as_of_final_roll   block     lot  \\\n",
       "count                        309443  309443  309443   \n",
       "nunique                          10   13199    4137   \n",
       "\n",
       "         building_class_as_of_final_roll  address  zip_code  \\\n",
       "count                             309443   309443    309443   \n",
       "nunique                              185   240526       191   \n",
       "\n",
       "         residential_units  ...  sale_price  sale_date  latitude  longitude  \\\n",
       "count               309443  ...      309443     309443    309443     309443   \n",
       "nunique                280  ...       25219       1459    129861     137279   \n",
       "\n",
       "         community_board  council_district  census_tract     bin     bbl  \\\n",
       "count             309443            309443        309443  309443  309443   \n",
       "nunique               62                51          1292  171876  167171   \n",
       "\n",
       "            nta  \n",
       "count    309443  \n",
       "nunique     192  \n",
       "\n",
       "[2 rows x 27 columns]"
      ]
     },
     "execution_count": 131,
     "metadata": {},
     "output_type": "execute_result"
    }
   ],
   "source": [
    "df2.agg(['count', 'nunique'])"
   ]
  },
  {
   "cell_type": "code",
   "execution_count": 132,
   "metadata": {},
   "outputs": [],
   "source": [
    "from sklearn.preprocessing import OrdinalEncoder \n",
    "from sklearn.preprocessing import OneHotEncoder"
   ]
  },
  {
   "cell_type": "code",
   "execution_count": 105,
   "metadata": {},
   "outputs": [
    {
     "data": {
      "text/plain": [
       "4    97905\n",
       "3    89236\n",
       "1    61977\n",
       "5    33059\n",
       "2    27266\n",
       "Name: borough, dtype: int64"
      ]
     },
     "execution_count": 105,
     "metadata": {},
     "output_type": "execute_result"
    }
   ],
   "source": [
    "df2[\"borough\"].value_counts() # \"borough\" is a catagorical attribute."
   ]
  },
  {
   "cell_type": "code",
   "execution_count": 110,
   "metadata": {},
   "outputs": [
    {
     "data": {
      "text/plain": [
       "<309443x5 sparse matrix of type '<class 'numpy.float64'>'\n",
       "\twith 309443 stored elements in Compressed Sparse Row format>"
      ]
     },
     "execution_count": 110,
     "metadata": {},
     "output_type": "execute_result"
    }
   ],
   "source": [
    "borough_ctg = df2['borough'].values.reshape(-1,1)\n",
    "ctg_encoder = OneHotEncoder()\n",
    "ctg_encoder_1hot = ctg_encoder.fit_transform(borough_ctg)\n",
    "ctg_encoder_1hot"
   ]
  },
  {
   "cell_type": "code",
   "execution_count": 111,
   "metadata": {},
   "outputs": [
    {
     "data": {
      "text/plain": [
       "array([[1., 0., 0., 0., 0.],\n",
       "       [1., 0., 0., 0., 0.],\n",
       "       [1., 0., 0., 0., 0.],\n",
       "       ...,\n",
       "       [0., 0., 0., 0., 1.],\n",
       "       [0., 0., 0., 0., 1.],\n",
       "       [0., 0., 0., 0., 1.]])"
      ]
     },
     "execution_count": 111,
     "metadata": {},
     "output_type": "execute_result"
    }
   ],
   "source": [
    "ctg_encoder_1hot.toarray()"
   ]
  },
  {
   "cell_type": "code",
   "execution_count": 93,
   "metadata": {},
   "outputs": [
    {
     "data": {
      "text/plain": [
       "Upper West Side                               5330\n",
       "Turtle Bay-East Midtown                       4892\n",
       "Forest Hills                                  4387\n",
       "Hudson Yards-Chelsea-Flatiron-Union Square    4342\n",
       "Flushing                                      4290\n",
       "                                              ... \n",
       "Starrett City                                   30\n",
       "park-cemetery-etc-Queens                        16\n",
       "park-cemetery-etc-Bronx                          3\n",
       "Stuyvesant Town-Cooper Village                   2\n",
       "Airport                                          1\n",
       "Name: nta, Length: 192, dtype: int64"
      ]
     },
     "execution_count": 93,
     "metadata": {},
     "output_type": "execute_result"
    }
   ],
   "source": [
    "df2['nta'].value_counts()"
   ]
  },
  {
   "cell_type": "code",
   "execution_count": 108,
   "metadata": {},
   "outputs": [
    {
     "data": {
      "text/plain": [
       "<309443x192 sparse matrix of type '<class 'numpy.float64'>'\n",
       "\twith 309443 stored elements in Compressed Sparse Row format>"
      ]
     },
     "execution_count": 108,
     "metadata": {},
     "output_type": "execute_result"
    }
   ],
   "source": [
    "nta = df2['nta'].values.reshape(-1,1)\n",
    "nta_encoder = OneHotEncoder()\n",
    "nta_encoder_1hot = nta_encoder.fit_transform(nta)\n",
    "nta_encoder_1hot"
   ]
  },
  {
   "cell_type": "code",
   "execution_count": 109,
   "metadata": {},
   "outputs": [
    {
     "data": {
      "text/plain": [
       "array([[0., 0., 0., ..., 0., 0., 0.],\n",
       "       [0., 0., 0., ..., 0., 0., 0.],\n",
       "       [0., 0., 0., ..., 0., 0., 0.],\n",
       "       ...,\n",
       "       [0., 0., 0., ..., 0., 0., 0.],\n",
       "       [0., 0., 0., ..., 0., 0., 0.],\n",
       "       [0., 0., 0., ..., 0., 0., 0.]])"
      ]
     },
     "execution_count": 109,
     "metadata": {},
     "output_type": "execute_result"
    }
   ],
   "source": [
    "nta_encoder_1hot.toarray()"
   ]
  },
  {
   "cell_type": "code",
   "execution_count": 101,
   "metadata": {},
   "outputs": [
    {
     "data": {
      "text/plain": [
       "01 ONE FAMILY DWELLINGS                56753\n",
       "02 TWO FAMILY DWELLINGS                48438\n",
       "13 CONDOS - ELEVATOR APARTMENTS        32481\n",
       "10 COOPS - ELEVATOR APARTMENTS         25998\n",
       "01  ONE FAMILY DWELLINGS               18341\n",
       "                                       ...  \n",
       "36  OUTDOOR RECREATIONAL FACILITIES       11\n",
       "40 SELECTED GOVERNMENTAL FACILITIES        4\n",
       "39  TRANSPORTATION FACILITIES              3\n",
       "39 TRANSPORTATION FACILITIES               3\n",
       "11  SPECIAL CONDO BILLING LOTS             2\n",
       "Name: building_class_category, Length: 90, dtype: int64"
      ]
     },
     "execution_count": 101,
     "metadata": {},
     "output_type": "execute_result"
    }
   ],
   "source": [
    "df2['building_class_category'].value_counts()"
   ]
  },
  {
   "cell_type": "code",
   "execution_count": 102,
   "metadata": {},
   "outputs": [
    {
     "data": {
      "text/plain": [
       "<309443x90 sparse matrix of type '<class 'numpy.float64'>'\n",
       "\twith 309443 stored elements in Compressed Sparse Row format>"
      ]
     },
     "execution_count": 102,
     "metadata": {},
     "output_type": "execute_result"
    }
   ],
   "source": [
    "\n",
    "building_ctgory = df2['building_class_category'].values.reshape(-1,1)\n",
    "ctgory_encoder = OneHotEncoder()\n",
    "building_ctgory_1hot = ctgory_encoder.fit_transform(building_ctgory)\n",
    "building_ctgory_1hot"
   ]
  },
  {
   "cell_type": "code",
   "execution_count": 103,
   "metadata": {},
   "outputs": [
    {
     "data": {
      "text/plain": [
       "array([[0., 0., 0., ..., 0., 0., 0.],\n",
       "       [1., 0., 0., ..., 0., 0., 0.],\n",
       "       [0., 0., 0., ..., 0., 0., 0.],\n",
       "       ...,\n",
       "       [0., 0., 0., ..., 0., 0., 0.],\n",
       "       [0., 0., 0., ..., 0., 0., 0.],\n",
       "       [0., 0., 0., ..., 0., 0., 0.]])"
      ]
     },
     "execution_count": 103,
     "metadata": {},
     "output_type": "execute_result"
    }
   ],
   "source": [
    "building_ctgory_1hot.toarray()"
   ]
  },
  {
   "cell_type": "markdown",
   "metadata": {},
   "source": [
    "### Applying binning to a continues attribute\n"
   ]
  },
  {
   "cell_type": "code",
   "execution_count": 112,
   "metadata": {},
   "outputs": [
    {
     "name": "stdout",
     "output_type": "stream",
     "text": [
      "bin edges: \n",
      " [array([0.00000000e+00, 2.39750190e+08, 4.79500380e+08, 7.19250570e+08,\n",
      "       9.59000760e+08, 1.19875095e+09, 1.43850114e+09, 1.67825133e+09,\n",
      "       1.91800152e+09, 2.15775171e+09, 2.39750190e+09])]\n"
     ]
    }
   ],
   "source": [
    "from sklearn.preprocessing import KBinsDiscretizer\n",
    "kb = KBinsDiscretizer(n_bins=10, strategy='uniform')\n",
    "kb.fit(df2['sale_price'].values.reshape(-1,1))\n",
    "print(\"bin edges: \\n\", kb.bin_edges_)"
   ]
  },
  {
   "cell_type": "code",
   "execution_count": 113,
   "metadata": {},
   "outputs": [
    {
     "data": {
      "text/plain": [
       "<309443x10 sparse matrix of type '<class 'numpy.float64'>'\n",
       "\twith 309443 stored elements in Compressed Sparse Row format>"
      ]
     },
     "execution_count": 113,
     "metadata": {},
     "output_type": "execute_result"
    }
   ],
   "source": [
    "binned = kb.transform(df2['sale_price'].values.reshape(-1,1))\n",
    "binned"
   ]
  },
  {
   "cell_type": "code",
   "execution_count": 114,
   "metadata": {},
   "outputs": [
    {
     "data": {
      "image/png": "[encoded data removed]",
      "text/plain": [
       "<Figure size 432x288 with 1 Axes>"
      ]
     },
     "metadata": {
      "needs_background": "light"
     },
     "output_type": "display_data"
    }
   ],
   "source": [
    "plt.plot(df2['sale_price'].values.reshape(-1,1))\n",
    "plt.show()"
   ]
  },
  {
   "cell_type": "code",
   "execution_count": 115,
   "metadata": {},
   "outputs": [
    {
     "data": {
      "image/png": "[encoded data removed]",
      "text/plain": [
       "<Figure size 432x288 with 1 Axes>"
      ]
     },
     "metadata": {
      "needs_background": "light"
     },
     "output_type": "display_data"
    }
   ],
   "source": [
    "plt.plot(binned.argmax(1))\n",
    "plt.show()"
   ]
  },
  {
   "cell_type": "code",
   "execution_count": 117,
   "metadata": {},
   "outputs": [
    {
     "data": {
      "image/png": "[encoded data removed]",
      "text/plain": [
       "<Figure size 432x288 with 1 Axes>"
      ]
     },
     "metadata": {
      "needs_background": "light"
     },
     "output_type": "display_data"
    }
   ],
   "source": [
    "plt.hist(df2['sale_price'].values.reshape(-1,1), bins = 10)\n",
    "plt.show()"
   ]
  },
  {
   "cell_type": "markdown",
   "metadata": {},
   "source": [
    "### Applying the following transformations to the sales_price \n",
    "\n",
    "- Squaring (**2)\n",
    "\n",
    "- Cubing (**3)\n",
    "\n",
    "- np.log\n",
    "\n",
    "- np.exp"
   ]
  },
  {
   "cell_type": "code",
   "execution_count": 119,
   "metadata": {},
   "outputs": [
    {
     "data": {
      "image/png": "[encoded data removed]",
      "text/plain": [
       "<Figure size 432x288 with 1 Axes>"
      ]
     },
     "metadata": {
      "needs_background": "light"
     },
     "output_type": "display_data"
    }
   ],
   "source": [
    "plt.hist(df2['sale_price'].values.reshape(-1,1))\n",
    "plt.show()"
   ]
  },
  {
   "cell_type": "code",
   "execution_count": 120,
   "metadata": {},
   "outputs": [
    {
     "data": {
      "image/png": "[encoded data removed]",
      "text/plain": [
       "<Figure size 432x288 with 1 Axes>"
      ]
     },
     "metadata": {
      "needs_background": "light"
     },
     "output_type": "display_data"
    }
   ],
   "source": [
    "plt.hist(df2['sale_price'].values.reshape(-1,1)**2, bins = 10)\n",
    "plt.show()"
   ]
  },
  {
   "cell_type": "code",
   "execution_count": 121,
   "metadata": {},
   "outputs": [
    {
     "data": {
      "image/png": "[encoded data removed]",
      "text/plain": [
       "<Figure size 432x288 with 1 Axes>"
      ]
     },
     "metadata": {
      "needs_background": "light"
     },
     "output_type": "display_data"
    }
   ],
   "source": [
    "plt.hist(df2['sale_price'].values.reshape(-1,1)**3, bins = 10)\n",
    "plt.show()"
   ]
  },
  {
   "cell_type": "code",
   "execution_count": 133,
   "metadata": {},
   "outputs": [
    {
     "name": "stderr",
     "output_type": "stream",
     "text": [
      "/Users/mukaddercinar/anaconda3/lib/python3.6/site-packages/ipykernel_launcher.py:1: RuntimeWarning: overflow encountered in exp\n",
      "  \"\"\"Entry point for launching an IPython kernel.\n"
     ]
    },
    {
     "ename": "ValueError",
     "evalue": "supplied range of [1.0, inf] is not finite",
     "output_type": "error",
     "traceback": [
      "\u001b[0;31m---------------------------------------------------------------------------\u001b[0m",
      "\u001b[0;31mValueError\u001b[0m                                Traceback (most recent call last)",
      "\u001b[0;32m<ipython-input-133-9d2161815a47>\u001b[0m in \u001b[0;36m<module>\u001b[0;34m\u001b[0m\n\u001b[0;32m----> 1\u001b[0;31m \u001b[0mplt\u001b[0m\u001b[0;34m.\u001b[0m\u001b[0mhist\u001b[0m\u001b[0;34m(\u001b[0m\u001b[0mnp\u001b[0m\u001b[0;34m.\u001b[0m\u001b[0mexp\u001b[0m\u001b[0;34m(\u001b[0m\u001b[0mdf2\u001b[0m\u001b[0;34m[\u001b[0m\u001b[0;34m'sale_price'\u001b[0m\u001b[0;34m]\u001b[0m\u001b[0;34m.\u001b[0m\u001b[0mvalues\u001b[0m\u001b[0;34m.\u001b[0m\u001b[0mreshape\u001b[0m\u001b[0;34m(\u001b[0m\u001b[0;34m-\u001b[0m\u001b[0;36m1\u001b[0m\u001b[0;34m,\u001b[0m\u001b[0;36m1\u001b[0m\u001b[0;34m)\u001b[0m\u001b[0;34m)\u001b[0m\u001b[0;34m,\u001b[0m \u001b[0mbins\u001b[0m\u001b[0;34m=\u001b[0m\u001b[0;36m10\u001b[0m\u001b[0;34m)\u001b[0m \u001b[0;31m# There are some sale price that is zero.\u001b[0m\u001b[0;34m\u001b[0m\u001b[0;34m\u001b[0m\u001b[0m\n\u001b[0m\u001b[1;32m      2\u001b[0m \u001b[0mplt\u001b[0m\u001b[0;34m.\u001b[0m\u001b[0mshow\u001b[0m\u001b[0;34m(\u001b[0m\u001b[0;34m)\u001b[0m\u001b[0;34m\u001b[0m\u001b[0;34m\u001b[0m\u001b[0m\n",
      "\u001b[0;32m~/anaconda3/lib/python3.6/site-packages/matplotlib/pyplot.py\u001b[0m in \u001b[0;36mhist\u001b[0;34m(x, bins, range, density, weights, cumulative, bottom, histtype, align, orientation, rwidth, log, color, label, stacked, normed, data, **kwargs)\u001b[0m\n\u001b[1;32m   2641\u001b[0m         \u001b[0malign\u001b[0m\u001b[0;34m=\u001b[0m\u001b[0malign\u001b[0m\u001b[0;34m,\u001b[0m \u001b[0morientation\u001b[0m\u001b[0;34m=\u001b[0m\u001b[0morientation\u001b[0m\u001b[0;34m,\u001b[0m \u001b[0mrwidth\u001b[0m\u001b[0;34m=\u001b[0m\u001b[0mrwidth\u001b[0m\u001b[0;34m,\u001b[0m \u001b[0mlog\u001b[0m\u001b[0;34m=\u001b[0m\u001b[0mlog\u001b[0m\u001b[0;34m,\u001b[0m\u001b[0;34m\u001b[0m\u001b[0;34m\u001b[0m\u001b[0m\n\u001b[1;32m   2642\u001b[0m         \u001b[0mcolor\u001b[0m\u001b[0;34m=\u001b[0m\u001b[0mcolor\u001b[0m\u001b[0;34m,\u001b[0m \u001b[0mlabel\u001b[0m\u001b[0;34m=\u001b[0m\u001b[0mlabel\u001b[0m\u001b[0;34m,\u001b[0m \u001b[0mstacked\u001b[0m\u001b[0;34m=\u001b[0m\u001b[0mstacked\u001b[0m\u001b[0;34m,\u001b[0m \u001b[0mnormed\u001b[0m\u001b[0;34m=\u001b[0m\u001b[0mnormed\u001b[0m\u001b[0;34m,\u001b[0m\u001b[0;34m\u001b[0m\u001b[0;34m\u001b[0m\u001b[0m\n\u001b[0;32m-> 2643\u001b[0;31m         **({\"data\": data} if data is not None else {}), **kwargs)\n\u001b[0m\u001b[1;32m   2644\u001b[0m \u001b[0;34m\u001b[0m\u001b[0m\n\u001b[1;32m   2645\u001b[0m \u001b[0;34m\u001b[0m\u001b[0m\n",
      "\u001b[0;32m~/anaconda3/lib/python3.6/site-packages/matplotlib/__init__.py\u001b[0m in \u001b[0;36minner\u001b[0;34m(ax, data, *args, **kwargs)\u001b[0m\n\u001b[1;32m   1597\u001b[0m     \u001b[0;32mdef\u001b[0m \u001b[0minner\u001b[0m\u001b[0;34m(\u001b[0m\u001b[0max\u001b[0m\u001b[0;34m,\u001b[0m \u001b[0;34m*\u001b[0m\u001b[0margs\u001b[0m\u001b[0;34m,\u001b[0m \u001b[0mdata\u001b[0m\u001b[0;34m=\u001b[0m\u001b[0;32mNone\u001b[0m\u001b[0;34m,\u001b[0m \u001b[0;34m**\u001b[0m\u001b[0mkwargs\u001b[0m\u001b[0;34m)\u001b[0m\u001b[0;34m:\u001b[0m\u001b[0;34m\u001b[0m\u001b[0;34m\u001b[0m\u001b[0m\n\u001b[1;32m   1598\u001b[0m         \u001b[0;32mif\u001b[0m \u001b[0mdata\u001b[0m \u001b[0;32mis\u001b[0m \u001b[0;32mNone\u001b[0m\u001b[0;34m:\u001b[0m\u001b[0;34m\u001b[0m\u001b[0;34m\u001b[0m\u001b[0m\n\u001b[0;32m-> 1599\u001b[0;31m             \u001b[0;32mreturn\u001b[0m \u001b[0mfunc\u001b[0m\u001b[0;34m(\u001b[0m\u001b[0max\u001b[0m\u001b[0;34m,\u001b[0m \u001b[0;34m*\u001b[0m\u001b[0mmap\u001b[0m\u001b[0;34m(\u001b[0m\u001b[0msanitize_sequence\u001b[0m\u001b[0;34m,\u001b[0m \u001b[0margs\u001b[0m\u001b[0;34m)\u001b[0m\u001b[0;34m,\u001b[0m \u001b[0;34m**\u001b[0m\u001b[0mkwargs\u001b[0m\u001b[0;34m)\u001b[0m\u001b[0;34m\u001b[0m\u001b[0;34m\u001b[0m\u001b[0m\n\u001b[0m\u001b[1;32m   1600\u001b[0m \u001b[0;34m\u001b[0m\u001b[0m\n\u001b[1;32m   1601\u001b[0m         \u001b[0mbound\u001b[0m \u001b[0;34m=\u001b[0m \u001b[0mnew_sig\u001b[0m\u001b[0;34m.\u001b[0m\u001b[0mbind\u001b[0m\u001b[0;34m(\u001b[0m\u001b[0max\u001b[0m\u001b[0;34m,\u001b[0m \u001b[0;34m*\u001b[0m\u001b[0margs\u001b[0m\u001b[0;34m,\u001b[0m \u001b[0;34m**\u001b[0m\u001b[0mkwargs\u001b[0m\u001b[0;34m)\u001b[0m\u001b[0;34m\u001b[0m\u001b[0;34m\u001b[0m\u001b[0m\n",
      "\u001b[0;32m~/anaconda3/lib/python3.6/site-packages/matplotlib/axes/_axes.py\u001b[0m in \u001b[0;36mhist\u001b[0;34m(self, x, bins, range, density, weights, cumulative, bottom, histtype, align, orientation, rwidth, log, color, label, stacked, normed, **kwargs)\u001b[0m\n\u001b[1;32m   6773\u001b[0m             \u001b[0;31m# this will automatically overwrite bins,\u001b[0m\u001b[0;34m\u001b[0m\u001b[0;34m\u001b[0m\u001b[0;34m\u001b[0m\u001b[0m\n\u001b[1;32m   6774\u001b[0m             \u001b[0;31m# so that each histogram uses the same bins\u001b[0m\u001b[0;34m\u001b[0m\u001b[0;34m\u001b[0m\u001b[0;34m\u001b[0m\u001b[0m\n\u001b[0;32m-> 6775\u001b[0;31m             \u001b[0mm\u001b[0m\u001b[0;34m,\u001b[0m \u001b[0mbins\u001b[0m \u001b[0;34m=\u001b[0m \u001b[0mnp\u001b[0m\u001b[0;34m.\u001b[0m\u001b[0mhistogram\u001b[0m\u001b[0;34m(\u001b[0m\u001b[0mx\u001b[0m\u001b[0;34m[\u001b[0m\u001b[0mi\u001b[0m\u001b[0;34m]\u001b[0m\u001b[0;34m,\u001b[0m \u001b[0mbins\u001b[0m\u001b[0;34m,\u001b[0m \u001b[0mweights\u001b[0m\u001b[0;34m=\u001b[0m\u001b[0mw\u001b[0m\u001b[0;34m[\u001b[0m\u001b[0mi\u001b[0m\u001b[0;34m]\u001b[0m\u001b[0;34m,\u001b[0m \u001b[0;34m**\u001b[0m\u001b[0mhist_kwargs\u001b[0m\u001b[0;34m)\u001b[0m\u001b[0;34m\u001b[0m\u001b[0;34m\u001b[0m\u001b[0m\n\u001b[0m\u001b[1;32m   6776\u001b[0m             \u001b[0mm\u001b[0m \u001b[0;34m=\u001b[0m \u001b[0mm\u001b[0m\u001b[0;34m.\u001b[0m\u001b[0mastype\u001b[0m\u001b[0;34m(\u001b[0m\u001b[0mfloat\u001b[0m\u001b[0;34m)\u001b[0m  \u001b[0;31m# causes problems later if it's an int\u001b[0m\u001b[0;34m\u001b[0m\u001b[0;34m\u001b[0m\u001b[0m\n\u001b[1;32m   6777\u001b[0m             \u001b[0;32mif\u001b[0m \u001b[0mmlast\u001b[0m \u001b[0;32mis\u001b[0m \u001b[0;32mNone\u001b[0m\u001b[0;34m:\u001b[0m\u001b[0;34m\u001b[0m\u001b[0;34m\u001b[0m\u001b[0m\n",
      "\u001b[0;32m<__array_function__ internals>\u001b[0m in \u001b[0;36mhistogram\u001b[0;34m(*args, **kwargs)\u001b[0m\n",
      "\u001b[0;32m~/anaconda3/lib/python3.6/site-packages/numpy/lib/histograms.py\u001b[0m in \u001b[0;36mhistogram\u001b[0;34m(a, bins, range, normed, weights, density)\u001b[0m\n\u001b[1;32m    793\u001b[0m     \u001b[0ma\u001b[0m\u001b[0;34m,\u001b[0m \u001b[0mweights\u001b[0m \u001b[0;34m=\u001b[0m \u001b[0m_ravel_and_check_weights\u001b[0m\u001b[0;34m(\u001b[0m\u001b[0ma\u001b[0m\u001b[0;34m,\u001b[0m \u001b[0mweights\u001b[0m\u001b[0;34m)\u001b[0m\u001b[0;34m\u001b[0m\u001b[0;34m\u001b[0m\u001b[0m\n\u001b[1;32m    794\u001b[0m \u001b[0;34m\u001b[0m\u001b[0m\n\u001b[0;32m--> 795\u001b[0;31m     \u001b[0mbin_edges\u001b[0m\u001b[0;34m,\u001b[0m \u001b[0muniform_bins\u001b[0m \u001b[0;34m=\u001b[0m \u001b[0m_get_bin_edges\u001b[0m\u001b[0;34m(\u001b[0m\u001b[0ma\u001b[0m\u001b[0;34m,\u001b[0m \u001b[0mbins\u001b[0m\u001b[0;34m,\u001b[0m \u001b[0mrange\u001b[0m\u001b[0;34m,\u001b[0m \u001b[0mweights\u001b[0m\u001b[0;34m)\u001b[0m\u001b[0;34m\u001b[0m\u001b[0;34m\u001b[0m\u001b[0m\n\u001b[0m\u001b[1;32m    796\u001b[0m \u001b[0;34m\u001b[0m\u001b[0m\n\u001b[1;32m    797\u001b[0m     \u001b[0;31m# Histogram is an integer or a float array depending on the weights.\u001b[0m\u001b[0;34m\u001b[0m\u001b[0;34m\u001b[0m\u001b[0;34m\u001b[0m\u001b[0m\n",
      "\u001b[0;32m~/anaconda3/lib/python3.6/site-packages/numpy/lib/histograms.py\u001b[0m in \u001b[0;36m_get_bin_edges\u001b[0;34m(a, bins, range, weights)\u001b[0m\n\u001b[1;32m    427\u001b[0m             \u001b[0;32mraise\u001b[0m \u001b[0mValueError\u001b[0m\u001b[0;34m(\u001b[0m\u001b[0;34m'`bins` must be positive, when an integer'\u001b[0m\u001b[0;34m)\u001b[0m\u001b[0;34m\u001b[0m\u001b[0;34m\u001b[0m\u001b[0m\n\u001b[1;32m    428\u001b[0m \u001b[0;34m\u001b[0m\u001b[0m\n\u001b[0;32m--> 429\u001b[0;31m         \u001b[0mfirst_edge\u001b[0m\u001b[0;34m,\u001b[0m \u001b[0mlast_edge\u001b[0m \u001b[0;34m=\u001b[0m \u001b[0m_get_outer_edges\u001b[0m\u001b[0;34m(\u001b[0m\u001b[0ma\u001b[0m\u001b[0;34m,\u001b[0m \u001b[0mrange\u001b[0m\u001b[0;34m)\u001b[0m\u001b[0;34m\u001b[0m\u001b[0;34m\u001b[0m\u001b[0m\n\u001b[0m\u001b[1;32m    430\u001b[0m \u001b[0;34m\u001b[0m\u001b[0m\n\u001b[1;32m    431\u001b[0m     \u001b[0;32melif\u001b[0m \u001b[0mnp\u001b[0m\u001b[0;34m.\u001b[0m\u001b[0mndim\u001b[0m\u001b[0;34m(\u001b[0m\u001b[0mbins\u001b[0m\u001b[0;34m)\u001b[0m \u001b[0;34m==\u001b[0m \u001b[0;36m1\u001b[0m\u001b[0;34m:\u001b[0m\u001b[0;34m\u001b[0m\u001b[0;34m\u001b[0m\u001b[0m\n",
      "\u001b[0;32m~/anaconda3/lib/python3.6/site-packages/numpy/lib/histograms.py\u001b[0m in \u001b[0;36m_get_outer_edges\u001b[0;34m(a, range)\u001b[0m\n\u001b[1;32m    317\u001b[0m         \u001b[0;32mif\u001b[0m \u001b[0;32mnot\u001b[0m \u001b[0;34m(\u001b[0m\u001b[0mnp\u001b[0m\u001b[0;34m.\u001b[0m\u001b[0misfinite\u001b[0m\u001b[0;34m(\u001b[0m\u001b[0mfirst_edge\u001b[0m\u001b[0;34m)\u001b[0m \u001b[0;32mand\u001b[0m \u001b[0mnp\u001b[0m\u001b[0;34m.\u001b[0m\u001b[0misfinite\u001b[0m\u001b[0;34m(\u001b[0m\u001b[0mlast_edge\u001b[0m\u001b[0;34m)\u001b[0m\u001b[0;34m)\u001b[0m\u001b[0;34m:\u001b[0m\u001b[0;34m\u001b[0m\u001b[0;34m\u001b[0m\u001b[0m\n\u001b[1;32m    318\u001b[0m             raise ValueError(\n\u001b[0;32m--> 319\u001b[0;31m                 \"supplied range of [{}, {}] is not finite\".format(first_edge, last_edge))\n\u001b[0m\u001b[1;32m    320\u001b[0m     \u001b[0;32melif\u001b[0m \u001b[0ma\u001b[0m\u001b[0;34m.\u001b[0m\u001b[0msize\u001b[0m \u001b[0;34m==\u001b[0m \u001b[0;36m0\u001b[0m\u001b[0;34m:\u001b[0m\u001b[0;34m\u001b[0m\u001b[0;34m\u001b[0m\u001b[0m\n\u001b[1;32m    321\u001b[0m         \u001b[0;31m# handle empty arrays. Can't determine range, so use 0-1.\u001b[0m\u001b[0;34m\u001b[0m\u001b[0;34m\u001b[0m\u001b[0;34m\u001b[0m\u001b[0m\n",
      "\u001b[0;31mValueError\u001b[0m: supplied range of [1.0, inf] is not finite"
     ]
    },
    {
     "data": {
      "image/png": "[encoded data removed]",
      "text/plain": [
       "<Figure size 432x288 with 1 Axes>"
      ]
     },
     "metadata": {
      "needs_background": "light"
     },
     "output_type": "display_data"
    }
   ],
   "source": [
    "plt.hist(np.exp(df2['sale_price'].values.reshape(-1,1)), bins=10) # There are some sale price that is zero.\n",
    "plt.show()"
   ]
  },
  {
   "cell_type": "code",
   "execution_count": 126,
   "metadata": {},
   "outputs": [
    {
     "data": {
      "image/png": "[encoded data removed]",
      "text/plain": [
       "<Figure size 432x288 with 1 Axes>"
      ]
     },
     "metadata": {
      "needs_background": "light"
     },
     "output_type": "display_data"
    }
   ],
   "source": [
    "plt.hist(df2['census_tract'].values.reshape(-1,1))\n",
    "plt.show()"
   ]
  },
  {
   "cell_type": "code",
   "execution_count": 127,
   "metadata": {},
   "outputs": [
    {
     "data": {
      "image/png": "[encoded data removed]",
      "text/plain": [
       "<Figure size 432x288 with 1 Axes>"
      ]
     },
     "metadata": {
      "needs_background": "light"
     },
     "output_type": "display_data"
    }
   ],
   "source": [
    "plt.hist(df2['census_tract'].values.reshape(-1,1)**2, bins = 10)\n",
    "plt.show()"
   ]
  },
  {
   "cell_type": "code",
   "execution_count": 128,
   "metadata": {},
   "outputs": [
    {
     "data": {
      "image/png": "[encoded data removed]",
      "text/plain": [
       "<Figure size 432x288 with 1 Axes>"
      ]
     },
     "metadata": {
      "needs_background": "light"
     },
     "output_type": "display_data"
    }
   ],
   "source": [
    "plt.hist(df2['census_tract'].values.reshape(-1,1)**3, bins = 10)\n",
    "plt.show()"
   ]
  },
  {
   "cell_type": "code",
   "execution_count": 129,
   "metadata": {},
   "outputs": [
    {
     "data": {
      "image/png": "[encoded data removed]",
      "text/plain": [
       "<Figure size 432x288 with 1 Axes>"
      ]
     },
     "metadata": {
      "needs_background": "light"
     },
     "output_type": "display_data"
    }
   ],
   "source": [
    "plt.hist(np.log(df2['census_tract'].values.reshape(-1,1)), bins=10)\n",
    "plt.show()"
   ]
  },
  {
   "cell_type": "code",
   "execution_count": 130,
   "metadata": {},
   "outputs": [
    {
     "name": "stderr",
     "output_type": "stream",
     "text": [
      "/Users/mukaddercinar/anaconda3/lib/python3.6/site-packages/ipykernel_launcher.py:1: RuntimeWarning: overflow encountered in exp\n",
      "  \"\"\"Entry point for launching an IPython kernel.\n"
     ]
    },
    {
     "ename": "ValueError",
     "evalue": "supplied range of [2.718281828459045, inf] is not finite",
     "output_type": "error",
     "traceback": [
      "\u001b[0;31m---------------------------------------------------------------------------\u001b[0m",
      "\u001b[0;31mValueError\u001b[0m                                Traceback (most recent call last)",
      "\u001b[0;32m<ipython-input-130-0bcea7550f41>\u001b[0m in \u001b[0;36m<module>\u001b[0;34m\u001b[0m\n\u001b[0;32m----> 1\u001b[0;31m \u001b[0mplt\u001b[0m\u001b[0;34m.\u001b[0m\u001b[0mhist\u001b[0m\u001b[0;34m(\u001b[0m\u001b[0mnp\u001b[0m\u001b[0;34m.\u001b[0m\u001b[0mexp\u001b[0m\u001b[0;34m(\u001b[0m\u001b[0mdf2\u001b[0m\u001b[0;34m[\u001b[0m\u001b[0;34m'census_tract'\u001b[0m\u001b[0;34m]\u001b[0m\u001b[0;34m.\u001b[0m\u001b[0mvalues\u001b[0m\u001b[0;34m.\u001b[0m\u001b[0mreshape\u001b[0m\u001b[0;34m(\u001b[0m\u001b[0;34m-\u001b[0m\u001b[0;36m1\u001b[0m\u001b[0;34m,\u001b[0m\u001b[0;36m1\u001b[0m\u001b[0;34m)\u001b[0m\u001b[0;34m)\u001b[0m\u001b[0;34m,\u001b[0m \u001b[0mbins\u001b[0m \u001b[0;34m=\u001b[0m \u001b[0;36m10\u001b[0m\u001b[0;34m)\u001b[0m\u001b[0;34m\u001b[0m\u001b[0;34m\u001b[0m\u001b[0m\n\u001b[0m\u001b[1;32m      2\u001b[0m \u001b[0mplt\u001b[0m\u001b[0;34m.\u001b[0m\u001b[0mshow\u001b[0m\u001b[0;34m(\u001b[0m\u001b[0;34m)\u001b[0m\u001b[0;34m\u001b[0m\u001b[0;34m\u001b[0m\u001b[0m\n",
      "\u001b[0;32m~/anaconda3/lib/python3.6/site-packages/matplotlib/pyplot.py\u001b[0m in \u001b[0;36mhist\u001b[0;34m(x, bins, range, density, weights, cumulative, bottom, histtype, align, orientation, rwidth, log, color, label, stacked, normed, data, **kwargs)\u001b[0m\n\u001b[1;32m   2641\u001b[0m         \u001b[0malign\u001b[0m\u001b[0;34m=\u001b[0m\u001b[0malign\u001b[0m\u001b[0;34m,\u001b[0m \u001b[0morientation\u001b[0m\u001b[0;34m=\u001b[0m\u001b[0morientation\u001b[0m\u001b[0;34m,\u001b[0m \u001b[0mrwidth\u001b[0m\u001b[0;34m=\u001b[0m\u001b[0mrwidth\u001b[0m\u001b[0;34m,\u001b[0m \u001b[0mlog\u001b[0m\u001b[0;34m=\u001b[0m\u001b[0mlog\u001b[0m\u001b[0;34m,\u001b[0m\u001b[0;34m\u001b[0m\u001b[0;34m\u001b[0m\u001b[0m\n\u001b[1;32m   2642\u001b[0m         \u001b[0mcolor\u001b[0m\u001b[0;34m=\u001b[0m\u001b[0mcolor\u001b[0m\u001b[0;34m,\u001b[0m \u001b[0mlabel\u001b[0m\u001b[0;34m=\u001b[0m\u001b[0mlabel\u001b[0m\u001b[0;34m,\u001b[0m \u001b[0mstacked\u001b[0m\u001b[0;34m=\u001b[0m\u001b[0mstacked\u001b[0m\u001b[0;34m,\u001b[0m \u001b[0mnormed\u001b[0m\u001b[0;34m=\u001b[0m\u001b[0mnormed\u001b[0m\u001b[0;34m,\u001b[0m\u001b[0;34m\u001b[0m\u001b[0;34m\u001b[0m\u001b[0m\n\u001b[0;32m-> 2643\u001b[0;31m         **({\"data\": data} if data is not None else {}), **kwargs)\n\u001b[0m\u001b[1;32m   2644\u001b[0m \u001b[0;34m\u001b[0m\u001b[0m\n\u001b[1;32m   2645\u001b[0m \u001b[0;34m\u001b[0m\u001b[0m\n",
      "\u001b[0;32m~/anaconda3/lib/python3.6/site-packages/matplotlib/__init__.py\u001b[0m in \u001b[0;36minner\u001b[0;34m(ax, data, *args, **kwargs)\u001b[0m\n\u001b[1;32m   1597\u001b[0m     \u001b[0;32mdef\u001b[0m \u001b[0minner\u001b[0m\u001b[0;34m(\u001b[0m\u001b[0max\u001b[0m\u001b[0;34m,\u001b[0m \u001b[0;34m*\u001b[0m\u001b[0margs\u001b[0m\u001b[0;34m,\u001b[0m \u001b[0mdata\u001b[0m\u001b[0;34m=\u001b[0m\u001b[0;32mNone\u001b[0m\u001b[0;34m,\u001b[0m \u001b[0;34m**\u001b[0m\u001b[0mkwargs\u001b[0m\u001b[0;34m)\u001b[0m\u001b[0;34m:\u001b[0m\u001b[0;34m\u001b[0m\u001b[0;34m\u001b[0m\u001b[0m\n\u001b[1;32m   1598\u001b[0m         \u001b[0;32mif\u001b[0m \u001b[0mdata\u001b[0m \u001b[0;32mis\u001b[0m \u001b[0;32mNone\u001b[0m\u001b[0;34m:\u001b[0m\u001b[0;34m\u001b[0m\u001b[0;34m\u001b[0m\u001b[0m\n\u001b[0;32m-> 1599\u001b[0;31m             \u001b[0;32mreturn\u001b[0m \u001b[0mfunc\u001b[0m\u001b[0;34m(\u001b[0m\u001b[0max\u001b[0m\u001b[0;34m,\u001b[0m \u001b[0;34m*\u001b[0m\u001b[0mmap\u001b[0m\u001b[0;34m(\u001b[0m\u001b[0msanitize_sequence\u001b[0m\u001b[0;34m,\u001b[0m \u001b[0margs\u001b[0m\u001b[0;34m)\u001b[0m\u001b[0;34m,\u001b[0m \u001b[0;34m**\u001b[0m\u001b[0mkwargs\u001b[0m\u001b[0;34m)\u001b[0m\u001b[0;34m\u001b[0m\u001b[0;34m\u001b[0m\u001b[0m\n\u001b[0m\u001b[1;32m   1600\u001b[0m \u001b[0;34m\u001b[0m\u001b[0m\n\u001b[1;32m   1601\u001b[0m         \u001b[0mbound\u001b[0m \u001b[0;34m=\u001b[0m \u001b[0mnew_sig\u001b[0m\u001b[0;34m.\u001b[0m\u001b[0mbind\u001b[0m\u001b[0;34m(\u001b[0m\u001b[0max\u001b[0m\u001b[0;34m,\u001b[0m \u001b[0;34m*\u001b[0m\u001b[0margs\u001b[0m\u001b[0;34m,\u001b[0m \u001b[0;34m**\u001b[0m\u001b[0mkwargs\u001b[0m\u001b[0;34m)\u001b[0m\u001b[0;34m\u001b[0m\u001b[0;34m\u001b[0m\u001b[0m\n",
      "\u001b[0;32m~/anaconda3/lib/python3.6/site-packages/matplotlib/axes/_axes.py\u001b[0m in \u001b[0;36mhist\u001b[0;34m(self, x, bins, range, density, weights, cumulative, bottom, histtype, align, orientation, rwidth, log, color, label, stacked, normed, **kwargs)\u001b[0m\n\u001b[1;32m   6773\u001b[0m             \u001b[0;31m# this will automatically overwrite bins,\u001b[0m\u001b[0;34m\u001b[0m\u001b[0;34m\u001b[0m\u001b[0;34m\u001b[0m\u001b[0m\n\u001b[1;32m   6774\u001b[0m             \u001b[0;31m# so that each histogram uses the same bins\u001b[0m\u001b[0;34m\u001b[0m\u001b[0;34m\u001b[0m\u001b[0;34m\u001b[0m\u001b[0m\n\u001b[0;32m-> 6775\u001b[0;31m             \u001b[0mm\u001b[0m\u001b[0;34m,\u001b[0m \u001b[0mbins\u001b[0m \u001b[0;34m=\u001b[0m \u001b[0mnp\u001b[0m\u001b[0;34m.\u001b[0m\u001b[0mhistogram\u001b[0m\u001b[0;34m(\u001b[0m\u001b[0mx\u001b[0m\u001b[0;34m[\u001b[0m\u001b[0mi\u001b[0m\u001b[0;34m]\u001b[0m\u001b[0;34m,\u001b[0m \u001b[0mbins\u001b[0m\u001b[0;34m,\u001b[0m \u001b[0mweights\u001b[0m\u001b[0;34m=\u001b[0m\u001b[0mw\u001b[0m\u001b[0;34m[\u001b[0m\u001b[0mi\u001b[0m\u001b[0;34m]\u001b[0m\u001b[0;34m,\u001b[0m \u001b[0;34m**\u001b[0m\u001b[0mhist_kwargs\u001b[0m\u001b[0;34m)\u001b[0m\u001b[0;34m\u001b[0m\u001b[0;34m\u001b[0m\u001b[0m\n\u001b[0m\u001b[1;32m   6776\u001b[0m             \u001b[0mm\u001b[0m \u001b[0;34m=\u001b[0m \u001b[0mm\u001b[0m\u001b[0;34m.\u001b[0m\u001b[0mastype\u001b[0m\u001b[0;34m(\u001b[0m\u001b[0mfloat\u001b[0m\u001b[0;34m)\u001b[0m  \u001b[0;31m# causes problems later if it's an int\u001b[0m\u001b[0;34m\u001b[0m\u001b[0;34m\u001b[0m\u001b[0m\n\u001b[1;32m   6777\u001b[0m             \u001b[0;32mif\u001b[0m \u001b[0mmlast\u001b[0m \u001b[0;32mis\u001b[0m \u001b[0;32mNone\u001b[0m\u001b[0;34m:\u001b[0m\u001b[0;34m\u001b[0m\u001b[0;34m\u001b[0m\u001b[0m\n",
      "\u001b[0;32m<__array_function__ internals>\u001b[0m in \u001b[0;36mhistogram\u001b[0;34m(*args, **kwargs)\u001b[0m\n",
      "\u001b[0;32m~/anaconda3/lib/python3.6/site-packages/numpy/lib/histograms.py\u001b[0m in \u001b[0;36mhistogram\u001b[0;34m(a, bins, range, normed, weights, density)\u001b[0m\n\u001b[1;32m    793\u001b[0m     \u001b[0ma\u001b[0m\u001b[0;34m,\u001b[0m \u001b[0mweights\u001b[0m \u001b[0;34m=\u001b[0m \u001b[0m_ravel_and_check_weights\u001b[0m\u001b[0;34m(\u001b[0m\u001b[0ma\u001b[0m\u001b[0;34m,\u001b[0m \u001b[0mweights\u001b[0m\u001b[0;34m)\u001b[0m\u001b[0;34m\u001b[0m\u001b[0;34m\u001b[0m\u001b[0m\n\u001b[1;32m    794\u001b[0m \u001b[0;34m\u001b[0m\u001b[0m\n\u001b[0;32m--> 795\u001b[0;31m     \u001b[0mbin_edges\u001b[0m\u001b[0;34m,\u001b[0m \u001b[0muniform_bins\u001b[0m \u001b[0;34m=\u001b[0m \u001b[0m_get_bin_edges\u001b[0m\u001b[0;34m(\u001b[0m\u001b[0ma\u001b[0m\u001b[0;34m,\u001b[0m \u001b[0mbins\u001b[0m\u001b[0;34m,\u001b[0m \u001b[0mrange\u001b[0m\u001b[0;34m,\u001b[0m \u001b[0mweights\u001b[0m\u001b[0;34m)\u001b[0m\u001b[0;34m\u001b[0m\u001b[0;34m\u001b[0m\u001b[0m\n\u001b[0m\u001b[1;32m    796\u001b[0m \u001b[0;34m\u001b[0m\u001b[0m\n\u001b[1;32m    797\u001b[0m     \u001b[0;31m# Histogram is an integer or a float array depending on the weights.\u001b[0m\u001b[0;34m\u001b[0m\u001b[0;34m\u001b[0m\u001b[0;34m\u001b[0m\u001b[0m\n",
      "\u001b[0;32m~/anaconda3/lib/python3.6/site-packages/numpy/lib/histograms.py\u001b[0m in \u001b[0;36m_get_bin_edges\u001b[0;34m(a, bins, range, weights)\u001b[0m\n\u001b[1;32m    427\u001b[0m             \u001b[0;32mraise\u001b[0m \u001b[0mValueError\u001b[0m\u001b[0;34m(\u001b[0m\u001b[0;34m'`bins` must be positive, when an integer'\u001b[0m\u001b[0;34m)\u001b[0m\u001b[0;34m\u001b[0m\u001b[0;34m\u001b[0m\u001b[0m\n\u001b[1;32m    428\u001b[0m \u001b[0;34m\u001b[0m\u001b[0m\n\u001b[0;32m--> 429\u001b[0;31m         \u001b[0mfirst_edge\u001b[0m\u001b[0;34m,\u001b[0m \u001b[0mlast_edge\u001b[0m \u001b[0;34m=\u001b[0m \u001b[0m_get_outer_edges\u001b[0m\u001b[0;34m(\u001b[0m\u001b[0ma\u001b[0m\u001b[0;34m,\u001b[0m \u001b[0mrange\u001b[0m\u001b[0;34m)\u001b[0m\u001b[0;34m\u001b[0m\u001b[0;34m\u001b[0m\u001b[0m\n\u001b[0m\u001b[1;32m    430\u001b[0m \u001b[0;34m\u001b[0m\u001b[0m\n\u001b[1;32m    431\u001b[0m     \u001b[0;32melif\u001b[0m \u001b[0mnp\u001b[0m\u001b[0;34m.\u001b[0m\u001b[0mndim\u001b[0m\u001b[0;34m(\u001b[0m\u001b[0mbins\u001b[0m\u001b[0;34m)\u001b[0m \u001b[0;34m==\u001b[0m \u001b[0;36m1\u001b[0m\u001b[0;34m:\u001b[0m\u001b[0;34m\u001b[0m\u001b[0;34m\u001b[0m\u001b[0m\n",
      "\u001b[0;32m~/anaconda3/lib/python3.6/site-packages/numpy/lib/histograms.py\u001b[0m in \u001b[0;36m_get_outer_edges\u001b[0;34m(a, range)\u001b[0m\n\u001b[1;32m    317\u001b[0m         \u001b[0;32mif\u001b[0m \u001b[0;32mnot\u001b[0m \u001b[0;34m(\u001b[0m\u001b[0mnp\u001b[0m\u001b[0;34m.\u001b[0m\u001b[0misfinite\u001b[0m\u001b[0;34m(\u001b[0m\u001b[0mfirst_edge\u001b[0m\u001b[0;34m)\u001b[0m \u001b[0;32mand\u001b[0m \u001b[0mnp\u001b[0m\u001b[0;34m.\u001b[0m\u001b[0misfinite\u001b[0m\u001b[0;34m(\u001b[0m\u001b[0mlast_edge\u001b[0m\u001b[0;34m)\u001b[0m\u001b[0;34m)\u001b[0m\u001b[0;34m:\u001b[0m\u001b[0;34m\u001b[0m\u001b[0;34m\u001b[0m\u001b[0m\n\u001b[1;32m    318\u001b[0m             raise ValueError(\n\u001b[0;32m--> 319\u001b[0;31m                 \"supplied range of [{}, {}] is not finite\".format(first_edge, last_edge))\n\u001b[0m\u001b[1;32m    320\u001b[0m     \u001b[0;32melif\u001b[0m \u001b[0ma\u001b[0m\u001b[0;34m.\u001b[0m\u001b[0msize\u001b[0m \u001b[0;34m==\u001b[0m \u001b[0;36m0\u001b[0m\u001b[0;34m:\u001b[0m\u001b[0;34m\u001b[0m\u001b[0;34m\u001b[0m\u001b[0m\n\u001b[1;32m    321\u001b[0m         \u001b[0;31m# handle empty arrays. Can't determine range, so use 0-1.\u001b[0m\u001b[0;34m\u001b[0m\u001b[0;34m\u001b[0m\u001b[0;34m\u001b[0m\u001b[0m\n",
      "\u001b[0;31mValueError\u001b[0m: supplied range of [2.718281828459045, inf] is not finite"
     ]
    },
    {
     "data": {
      "image/png": "[encoded data removed]",
      "text/plain": [
       "<Figure size 432x288 with 1 Axes>"
      ]
     },
     "metadata": {
      "needs_background": "light"
     },
     "output_type": "display_data"
    }
   ],
   "source": [
    "plt.hist(np.exp(df2['census_tract'].values.reshape(-1,1)), bins = 10)\n",
    "plt.show()"
   ]
  },
  {
   "cell_type": "code",
   "execution_count": null,
   "metadata": {},
   "outputs": [],
   "source": []
  }
 ],
 "metadata": {
  "kernelspec": {
   "display_name": "Python 3",
   "language": "python",
   "name": "python3"
  },
  "language_info": {
   "codemirror_mode": {
    "name": "ipython",
    "version": 3
   },
   "file_extension": ".py",
   "mimetype": "text/x-python",
   "name": "python",
   "nbconvert_exporter": "python",
   "pygments_lexer": "ipython3",
   "version": "3.6.10"
  }
 },
 "nbformat": 4,
 "nbformat_minor": 4
}
